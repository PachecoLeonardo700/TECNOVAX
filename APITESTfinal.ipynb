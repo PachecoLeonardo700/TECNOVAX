{
  "nbformat": 4,
  "nbformat_minor": 0,
  "metadata": {
    "colab": {
      "provenance": [],
      "authorship_tag": "ABX9TyNNixhqoVjnZY3i/CTjC5TS",
      "include_colab_link": true
    },
    "kernelspec": {
      "name": "python3",
      "display_name": "Python 3"
    },
    "language_info": {
      "name": "python"
    }
  },
  "cells": [
    {
      "cell_type": "markdown",
      "metadata": {
        "id": "view-in-github",
        "colab_type": "text"
      },
      "source": [
        "<a href=\"https://colab.research.google.com/github/PachecoLeonardo700/TECNOVAX/blob/main/APITESTfinal.ipynb\" target=\"_parent\"><img src=\"https://colab.research.google.com/assets/colab-badge.svg\" alt=\"Open In Colab\"/></a>"
      ]
    },
    {
      "cell_type": "markdown",
      "source": [
        "# Instalar las librerías necesarias, la librería pillow la usamos para convertir una imagen a formato 64 para incluir en la creación de los trámites"
      ],
      "metadata": {
        "id": "9dzcHzdZRMxx"
      }
    },
    {
      "cell_type": "code",
      "source": [
        "!pip install requests --quiet\n",
        "print(\"requests instalado\")\n",
        "\n",
        "# 1) Instalar Pillow si no está instalado\n",
        "!pip install pillow --quiet\n",
        "print(\"Pillow instalado\")\n",
        "\n",
        "# 2) Subir y procesar PNG (preserva alpha/transparencia)\n",
        "from google.colab import files\n",
        "from PIL import Image\n",
        "import io, base64, os\n",
        "\n",
        "# Parámetros\n",
        "MAX_WIDTH = 1024          # ancho máximo; ajusta si quieres menos (p. ej. 800)\n",
        "OUTPUT_FORMAT = \"PNG\"     # mantiene PNG y transparencia\n",
        "PNG_OPTIMIZE = True       # optimizar salida PNG\n",
        "PNG_COMPRESSION = 6       # 0-9 (mayor = más compresión lento). Ajusta si hay límites.\n",
        "\n",
        "print(\"Selecciona la imagen PNG desde tu equipo (aparecerá un selector).\")\n",
        "uploaded = files.upload()\n",
        "if not uploaded:\n",
        "    raise SystemExit(\"No se subió ninguna imagen. Cancelo.\")\n",
        "\n",
        "filename = next(iter(uploaded))\n",
        "print(\"Archivo subido:\", filename)\n",
        "\n",
        "# Cargar imagen\n",
        "img = Image.open(io.BytesIO(uploaded[filename]))\n",
        "print(\"Modo original:\", img.mode, \"Tamaño original:\", img.size)\n",
        "\n",
        "# Si está muy ancha, redimensionar manteniendo proporción\n",
        "w, h = img.size\n",
        "if w > MAX_WIDTH:\n",
        "    new_h = int((MAX_WIDTH / w) * h)\n",
        "    img = img.resize((MAX_WIDTH, new_h), Image.LANCZOS)\n",
        "    print(f\"Redimensionada a: {img.size}\")\n",
        "else:\n",
        "    print(\"No redimensionada.\")\n",
        "\n",
        "# Guardar como PNG en buffer (preservando alpha si existe)\n",
        "buf = io.BytesIO()\n",
        "save_kwargs = {}\n",
        "if OUTPUT_FORMAT.upper() == \"PNG\":\n",
        "    save_kwargs[\"optimize\"] = PNG_OPTIMIZE\n",
        "    # Pillow usa 'compress_level' 0-9\n",
        "    save_kwargs[\"compress_level\"] = PNG_COMPRESSION\n",
        "img.save(buf, format=\"PNG\", **save_kwargs)\n",
        "buf.seek(0)\n",
        "img_bytes = buf.read()\n",
        "\n",
        "# Convertir a base64 (string sin prefijo)\n",
        "IMAGE_BASE64 = base64.b64encode(img_bytes).decode(\"utf-8\")\n",
        "print(\"IMAGE_BASE64 creada. Longitud (bytes base64):\", len(IMAGE_BASE64))\n",
        "\n",
        "# Guardar info útil en variables (opcional para debug)\n",
        "IMAGE_FILENAME = filename\n",
        "IMAGE_SIZE_BYTES = len(img_bytes)\n",
        "print(\"Tamaño PNG en bytes (aprox):\", IMAGE_SIZE_BYTES)\n"
      ],
      "metadata": {
        "colab": {
          "base_uri": "https://localhost:8080/",
          "height": 194
        },
        "id": "DQLdiNapw_ev",
        "outputId": "95e1b4f8-d5c5-4150-8c9f-d9e95b2c7a19"
      },
      "execution_count": null,
      "outputs": [
        {
          "output_type": "stream",
          "name": "stdout",
          "text": [
            "Pillow instalado\n",
            "Selecciona la imagen PNG desde tu equipo (aparecerá un selector).\n"
          ]
        },
        {
          "output_type": "display_data",
          "data": {
            "text/plain": [
              "<IPython.core.display.HTML object>"
            ],
            "text/html": [
              "\n",
              "     <input type=\"file\" id=\"files-2df9ee56-45f3-4969-8291-380fe8d37bd6\" name=\"files[]\" multiple disabled\n",
              "        style=\"border:none\" />\n",
              "     <output id=\"result-2df9ee56-45f3-4969-8291-380fe8d37bd6\">\n",
              "      Upload widget is only available when the cell has been executed in the\n",
              "      current browser session. Please rerun this cell to enable.\n",
              "      </output>\n",
              "      <script>// Copyright 2017 Google LLC\n",
              "//\n",
              "// Licensed under the Apache License, Version 2.0 (the \"License\");\n",
              "// you may not use this file except in compliance with the License.\n",
              "// You may obtain a copy of the License at\n",
              "//\n",
              "//      http://www.apache.org/licenses/LICENSE-2.0\n",
              "//\n",
              "// Unless required by applicable law or agreed to in writing, software\n",
              "// distributed under the License is distributed on an \"AS IS\" BASIS,\n",
              "// WITHOUT WARRANTIES OR CONDITIONS OF ANY KIND, either express or implied.\n",
              "// See the License for the specific language governing permissions and\n",
              "// limitations under the License.\n",
              "\n",
              "/**\n",
              " * @fileoverview Helpers for google.colab Python module.\n",
              " */\n",
              "(function(scope) {\n",
              "function span(text, styleAttributes = {}) {\n",
              "  const element = document.createElement('span');\n",
              "  element.textContent = text;\n",
              "  for (const key of Object.keys(styleAttributes)) {\n",
              "    element.style[key] = styleAttributes[key];\n",
              "  }\n",
              "  return element;\n",
              "}\n",
              "\n",
              "// Max number of bytes which will be uploaded at a time.\n",
              "const MAX_PAYLOAD_SIZE = 100 * 1024;\n",
              "\n",
              "function _uploadFiles(inputId, outputId) {\n",
              "  const steps = uploadFilesStep(inputId, outputId);\n",
              "  const outputElement = document.getElementById(outputId);\n",
              "  // Cache steps on the outputElement to make it available for the next call\n",
              "  // to uploadFilesContinue from Python.\n",
              "  outputElement.steps = steps;\n",
              "\n",
              "  return _uploadFilesContinue(outputId);\n",
              "}\n",
              "\n",
              "// This is roughly an async generator (not supported in the browser yet),\n",
              "// where there are multiple asynchronous steps and the Python side is going\n",
              "// to poll for completion of each step.\n",
              "// This uses a Promise to block the python side on completion of each step,\n",
              "// then passes the result of the previous step as the input to the next step.\n",
              "function _uploadFilesContinue(outputId) {\n",
              "  const outputElement = document.getElementById(outputId);\n",
              "  const steps = outputElement.steps;\n",
              "\n",
              "  const next = steps.next(outputElement.lastPromiseValue);\n",
              "  return Promise.resolve(next.value.promise).then((value) => {\n",
              "    // Cache the last promise value to make it available to the next\n",
              "    // step of the generator.\n",
              "    outputElement.lastPromiseValue = value;\n",
              "    return next.value.response;\n",
              "  });\n",
              "}\n",
              "\n",
              "/**\n",
              " * Generator function which is called between each async step of the upload\n",
              " * process.\n",
              " * @param {string} inputId Element ID of the input file picker element.\n",
              " * @param {string} outputId Element ID of the output display.\n",
              " * @return {!Iterable<!Object>} Iterable of next steps.\n",
              " */\n",
              "function* uploadFilesStep(inputId, outputId) {\n",
              "  const inputElement = document.getElementById(inputId);\n",
              "  inputElement.disabled = false;\n",
              "\n",
              "  const outputElement = document.getElementById(outputId);\n",
              "  outputElement.innerHTML = '';\n",
              "\n",
              "  const pickedPromise = new Promise((resolve) => {\n",
              "    inputElement.addEventListener('change', (e) => {\n",
              "      resolve(e.target.files);\n",
              "    });\n",
              "  });\n",
              "\n",
              "  const cancel = document.createElement('button');\n",
              "  inputElement.parentElement.appendChild(cancel);\n",
              "  cancel.textContent = 'Cancel upload';\n",
              "  const cancelPromise = new Promise((resolve) => {\n",
              "    cancel.onclick = () => {\n",
              "      resolve(null);\n",
              "    };\n",
              "  });\n",
              "\n",
              "  // Wait for the user to pick the files.\n",
              "  const files = yield {\n",
              "    promise: Promise.race([pickedPromise, cancelPromise]),\n",
              "    response: {\n",
              "      action: 'starting',\n",
              "    }\n",
              "  };\n",
              "\n",
              "  cancel.remove();\n",
              "\n",
              "  // Disable the input element since further picks are not allowed.\n",
              "  inputElement.disabled = true;\n",
              "\n",
              "  if (!files) {\n",
              "    return {\n",
              "      response: {\n",
              "        action: 'complete',\n",
              "      }\n",
              "    };\n",
              "  }\n",
              "\n",
              "  for (const file of files) {\n",
              "    const li = document.createElement('li');\n",
              "    li.append(span(file.name, {fontWeight: 'bold'}));\n",
              "    li.append(span(\n",
              "        `(${file.type || 'n/a'}) - ${file.size} bytes, ` +\n",
              "        `last modified: ${\n",
              "            file.lastModifiedDate ? file.lastModifiedDate.toLocaleDateString() :\n",
              "                                    'n/a'} - `));\n",
              "    const percent = span('0% done');\n",
              "    li.appendChild(percent);\n",
              "\n",
              "    outputElement.appendChild(li);\n",
              "\n",
              "    const fileDataPromise = new Promise((resolve) => {\n",
              "      const reader = new FileReader();\n",
              "      reader.onload = (e) => {\n",
              "        resolve(e.target.result);\n",
              "      };\n",
              "      reader.readAsArrayBuffer(file);\n",
              "    });\n",
              "    // Wait for the data to be ready.\n",
              "    let fileData = yield {\n",
              "      promise: fileDataPromise,\n",
              "      response: {\n",
              "        action: 'continue',\n",
              "      }\n",
              "    };\n",
              "\n",
              "    // Use a chunked sending to avoid message size limits. See b/62115660.\n",
              "    let position = 0;\n",
              "    do {\n",
              "      const length = Math.min(fileData.byteLength - position, MAX_PAYLOAD_SIZE);\n",
              "      const chunk = new Uint8Array(fileData, position, length);\n",
              "      position += length;\n",
              "\n",
              "      const base64 = btoa(String.fromCharCode.apply(null, chunk));\n",
              "      yield {\n",
              "        response: {\n",
              "          action: 'append',\n",
              "          file: file.name,\n",
              "          data: base64,\n",
              "        },\n",
              "      };\n",
              "\n",
              "      let percentDone = fileData.byteLength === 0 ?\n",
              "          100 :\n",
              "          Math.round((position / fileData.byteLength) * 100);\n",
              "      percent.textContent = `${percentDone}% done`;\n",
              "\n",
              "    } while (position < fileData.byteLength);\n",
              "  }\n",
              "\n",
              "  // All done.\n",
              "  yield {\n",
              "    response: {\n",
              "      action: 'complete',\n",
              "    }\n",
              "  };\n",
              "}\n",
              "\n",
              "scope.google = scope.google || {};\n",
              "scope.google.colab = scope.google.colab || {};\n",
              "scope.google.colab._files = {\n",
              "  _uploadFiles,\n",
              "  _uploadFilesContinue,\n",
              "};\n",
              "})(self);\n",
              "</script> "
            ]
          },
          "metadata": {}
        },
        {
          "output_type": "stream",
          "name": "stdout",
          "text": [
            "Saving tramite.png to tramite.png\n",
            "Archivo subido: tramite.png\n",
            "Modo original: RGBA Tamaño original: (200, 200)\n",
            "No redimensionada.\n",
            "IMAGE_BASE64 creada. Longitud (bytes base64): 3000\n",
            "Tamaño PNG en bytes (aprox): 2248\n"
          ]
        }
      ]
    },
    {
      "cell_type": "markdown",
      "source": [
        "# Guardamos la información de la base de datos del sitio web (url del sitio, nombre de la bd, id del usuario administrador, clave api de acceso admin al sitio web y la url de la api externa de bruno para obtener los trámites)"
      ],
      "metadata": {
        "id": "_XRG7rxiRkVp"
      }
    },
    {
      "cell_type": "code",
      "source": [
        "import os\n",
        "\n",
        "# EDITA ESTO\n",
        "ODOO_URL = \"https://tramitespropuesta7.odoo.com/jsonrpc\"  # endpoint JSON-RPC\n",
        "ODOO_DB = \"tramitespropuesta7\"                           # nombre DB\n",
        "ODOO_UID = 2                                            # tu user ID\n",
        "ODOO_API_KEY = \"5ef5362118a1798f6192025dad409f84b9e5c7bc\"                        # tu API Key\n",
        "EXTERNAL_API = \"https://modmejorareg.devel.telecom.lat/api/tramites/listar\"\n",
        "\n",
        "os.environ[\"ODOO_URL\"] = ODOO_URL\n",
        "os.environ[\"ODOO_DB\"] = ODOO_DB\n",
        "os.environ[\"ODOO_UID\"] = str(ODOO_UID)\n",
        "os.environ[\"ODOO_API_KEY\"] = ODOO_API_KEY\n",
        "os.environ[\"EXTERNAL_API\"] = EXTERNAL_API\n",
        "\n",
        "print(\"Configuración establecida.\")\n"
      ],
      "metadata": {
        "colab": {
          "base_uri": "https://localhost:8080/"
        },
        "id": "O7eMYpuPsrA2",
        "outputId": "488c5e5a-8876-49e8-97dd-1afbba76adda"
      },
      "execution_count": null,
      "outputs": [
        {
          "output_type": "stream",
          "name": "stdout",
          "text": [
            "Configuración establecida.\n"
          ]
        }
      ]
    },
    {
      "cell_type": "markdown",
      "source": [
        "# Definimos el método que sirve para cargar los elementos en la bd"
      ],
      "metadata": {
        "id": "aq02NXGvSIIG"
      }
    },
    {
      "cell_type": "code",
      "source": [
        "import requests, json\n",
        "from html import escape\n",
        "\n",
        "def odoo_jsonrpc(model, method, args=None, kwargs=None):\n",
        "    payload = {\n",
        "        \"jsonrpc\": \"2.0\",\n",
        "        \"method\": \"call\",\n",
        "        \"params\": {\n",
        "            \"service\": \"object\",\n",
        "            \"method\": \"execute_kw\",\n",
        "            \"args\": [\n",
        "                os.environ[\"ODOO_DB\"],\n",
        "                int(os.environ[\"ODOO_UID\"]),\n",
        "                os.environ[\"ODOO_API_KEY\"],\n",
        "                model,\n",
        "                method,\n",
        "                args or [],\n",
        "                kwargs or {}\n",
        "            ]\n",
        "        },\n",
        "        \"id\": 1\n",
        "    }\n",
        "    r = requests.post(os.environ[\"ODOO_URL\"], json=payload, timeout=60)\n",
        "    r.raise_for_status()\n",
        "    resp = r.json()\n",
        "    if \"error\" in resp:\n",
        "        raise Exception(json.dumps(resp[\"error\"], indent=2))\n",
        "    return resp.get(\"result\")\n",
        "\n",
        "# prueba mínima (opcional)\n",
        "# print(odoo_jsonrpc(\"res.partner\",\"search_read\", args=[[[\"id\",\">\",0]]], kwargs={\"limit\":1}))\n"
      ],
      "metadata": {
        "id": "i1k4cCNkssyI"
      },
      "execution_count": null,
      "outputs": []
    },
    {
      "cell_type": "markdown",
      "source": [
        "# Definimos el método para obtener la información de la api solicitando solo los datos que nos resultan útiles para utilizar en el sitio web"
      ],
      "metadata": {
        "id": "hR8fGKdqSgCm"
      }
    },
    {
      "cell_type": "code",
      "source": [
        "r = requests.get(os.environ[\"EXTERNAL_API\"], timeout=30)\n",
        "r.raise_for_status()\n",
        "payload = r.json()\n",
        "tramites_raw = payload.get(\"data\") or []\n",
        "print(f\"Trámites obtenidos: {len(tramites_raw)}\")\n",
        "\n",
        "def pick_fields(t):\n",
        "    return {\n",
        "        \"id\": t.get(\"id\"),\n",
        "        \"cNombreLegal\": t.get(\"cNombreLegal\"),\n",
        "        \"cHomoclave\": t.get(\"cHomoclave\"),\n",
        "        \"cDescripcion\": t.get(\"cDescripcion\"),\n",
        "        \"cInformacionContacto\": t.get(\"cInformacionContacto\"),\n",
        "        \"enumTipoCosto\": t.get(\"enumTipoCosto\"),\n",
        "        \"cCosto\": t.get(\"cCosto\"),\n",
        "        \"unidad_administrativa\": t.get(\"unidad_administrativa\") or {},\n",
        "    }\n",
        "\n",
        "tramites = [pick_fields(t) for t in tramites_raw]\n",
        "\n",
        "# mostrar ejemplo\n",
        "import pprint\n",
        "pp = pprint.PrettyPrinter(indent=2)\n",
        "if tramites:\n",
        "    print(\"Ejemplo (primer trámite filtrado):\")\n",
        "    pp.pprint(tramites[0])\n"
      ],
      "metadata": {
        "colab": {
          "base_uri": "https://localhost:8080/"
        },
        "id": "cn6xIbYtsvj1",
        "outputId": "30390fb2-e981-4afd-b377-5a523b71ee26"
      },
      "execution_count": null,
      "outputs": [
        {
          "output_type": "stream",
          "name": "stdout",
          "text": [
            "Trámites obtenidos: 373\n",
            "Ejemplo (primer trámite filtrado):\n",
            "{ 'cCosto': 'Por cabeza de ganado Vacuno $452.56(4 UMA), Por cada cabeza de '\n",
            "            'ganado PORCINO: peso de hasta 50 kg. $113.14 (1 UMA),peso de '\n",
            "            '50.01 hasta 85.00 Kg. $169.71  (1.5 UMA) peso de entre 85.01 '\n",
            "            'hasta 135 kg. $ 226.28 (2 UMA), peso de mas de 135 kg. $ 339.42 '\n",
            "            '(3 UMA), por cabeza de ganado OVINO $ 113.14 (1 UMA), por cabeza '\n",
            "            'de ganado CAPRINO $ 113.14 (1 UMA), por cabeza de ganado EQUINO '\n",
            "            '$452.56 (4 UMA).El valor de un UMA es de $113.14',\n",
            "  'cDescripcion': 'Servicio de sacrificio y faenado de ganado bovino, porcino, '\n",
            "                  'caprino, ovino y equino',\n",
            "  'cHomoclave': 'MID-ABM-001',\n",
            "  'cInformacionContacto': 'Calle 132 No. 239 entre 59b y 59d, Fraccionamiento '\n",
            "                          'Yucalpetén',\n",
            "  'cNombreLegal': 'Sacrificio  y faenado de Ganado',\n",
            "  'enumTipoCosto': 'fijo',\n",
            "  'id': 1,\n",
            "  'unidad_administrativa': { 'cNombre': 'Abastos de Mérida',\n",
            "                             'cSiglas': 'ABM',\n",
            "                             'id': 1}}\n"
          ]
        }
      ]
    },
    {
      "cell_type": "markdown",
      "source": [
        "# Definimos el método que sirve para construir el apartado de información de cada trámite"
      ],
      "metadata": {
        "id": "uFAWR6lASsdN"
      }
    },
    {
      "cell_type": "code",
      "source": [
        "def build_description_ecommerce(t):\n",
        "    e = escape\n",
        "    ua = t.get(\"unidad_administrativa\") or {}\n",
        "    cNombre = e(ua.get(\"cNombre\") or \"\")\n",
        "    cHomoclave = e(t.get(\"cHomoclave\") or \"\")\n",
        "    cDescripcion = e(t.get(\"cDescripcion\") or \"\")\n",
        "    cInformacionContacto = e(t.get(\"cInformacionContacto\") or \"\")\n",
        "    enumTipoCosto = e(t.get(\"enumTipoCosto\") or \"\")\n",
        "    cCosto = e(t.get(\"cCosto\") or \"\")\n",
        "\n",
        "    html = (\n",
        "f'<p style=\"text-align: center;\" data-oe-version=\"2.0\"><strong>Homoclave :&nbsp;</strong>{cHomoclave}</p>\\n\\n'\n",
        "f'<p style=\"text-align: center;\"><strong>Dependencia: </strong>{cNombre}</p>\\n\\n'\n",
        "'<div data-name=\"Acordeón\" data-snippet=\"s_accordion\" class=\"s_accordion\">\\n'\n",
        "'        <div id=\"myCollapse\" class=\" accordion\">\\n'\n",
        "'            <div class=\"accordion-item position-relative z-1\" data-name=\"Accordion Item\">\\n'\n",
        "'                <button type=\"button\" class=\"accordion-header accordion-button justify-content-between gap-2 bg-transparent h6-fs fw-bold text-decoration-none text-reset transition-none collapsed\" data-bs-toggle=\"collapse\" aria-expanded=\"false\" id=\"accordion-button266980_1\" data-bs-target=\"#myCollapseTab266980_1\" aria-controls=\"myCollapseTab266980_1\"><span class=\"flex-grow-1\"><p>Descripción del Trámite</p></span></button>\\n'\n",
        "'                <div class=\"accordion-collapse collapse\" data-bs-parent=\"#myCollapse\" role=\"region\" id=\"myCollapseTab266980_1\" aria-labelledby=\"accordion-button266980_1\">\\n'\n",
        "'                    <div class=\"accordion-body\">\\n'\n",
        "f'                        <p>{cDescripcion}</p>\\n'\n",
        "'                    </div>\\n'\n",
        "'                </div>\\n'\n",
        "'            </div>\\n'\n",
        "'            <div class=\"accordion-item position-relative z-1\" data-name=\"Accordion Item\">\\n'\n",
        "'                <button type=\"button\" class=\"accordion-header accordion-button justify-content-between gap-2 bg-transparent h6-fs fw-bold text-decoration-none text-reset transition-none collapsed\" data-bs-toggle=\"collapse\" aria-expanded=\"false\" id=\"accordion-button266980_2\" data-bs-target=\"#myCollapseTab266980_2\" aria-controls=\"myCollapseTab266980_2\"><span class=\"flex-grow-1\"><p>Información de Contacto&nbsp;</p></span></button>\\n'\n",
        "'                <div class=\"accordion-collapse collapse\" data-bs-parent=\"#myCollapse\" role=\"region\" id=\"myCollapseTab266980_2\" aria-labelledby=\"accordion-button266980_2\">\\n'\n",
        "'                    <div class=\"accordion-body\">\\n'\n",
        "f'                    {cInformacionContacto}</div>\\n'\n",
        "'                </div>\\n'\n",
        "'            </div>\\n'\n",
        "'            <div class=\"accordion-item position-relative z-1\" data-name=\"Accordion Item\">\\n'\n",
        "'                <button type=\"button\" class=\"accordion-header accordion-button justify-content-between gap-2 bg-transparent h6-fs fw-bold text-decoration-none text-reset transition-none collapsed\" data-bs-toggle=\"collapse\" aria-expanded=\"false\" id=\"accordion-button266980_3\" data-bs-target=\"#myCollapseTab266980_3\" aria-controls=\"myCollapseTab266980_3\"><span class=\"flex-grow-1\"><p>Tipo de costo</p></span></button>\\n'\n",
        "'                <div class=\"accordion-collapse collapse\" data-bs-parent=\"#myCollapse\" role=\"region\" id=\"myCollapseTab266980_3\" aria-labelledby=\"accordion-button266980_3\">\\n'\n",
        "'                    <div class=\"accordion-body\">\\n'\n",
        "f'                    {enumTipoCosto}</div>\\n'\n",
        "'                </div>\\n'\n",
        "'            </div>\\n'\n",
        "'            <div class=\"accordion-item position-relative z-1\" data-name=\"Accordion Item\">\\n'\n",
        "'                <button type=\"button\" class=\"accordion-header accordion-button justify-content-between gap-2 bg-transparent h6-fs fw-bold text-decoration-none text-reset transition-none\" data-bs-toggle=\"collapse\" aria-expanded=\"true\" id=\"accordion-button266980_4\" data-bs-target=\"#myCollapseTab266980_4\" aria-controls=\"myCollapseTab266980_4\"><span class=\"flex-grow-1\"><p>Costo</p></span></button>\\n'\n",
        "'                <div class=\"accordion-collapse collapse show\" data-bs-parent=\"#myCollapse\" role=\"region\" id=\"myCollapseTab266980_4\" aria-labelledby=\"accordion-button266980_4\">\\n'\n",
        "'                    <div class=\"accordion-body\">'\n",
        "f'{cCosto}</div>\\n'\n",
        "'                </div>\\n'\n",
        "'            </div>\\n'\n",
        "'        </div>\\n'\n",
        "'    </div>'\n",
        "    )\n",
        "    return html\n",
        "\n",
        "# ejemplo\n",
        "if tramites:\n",
        "    print(build_description_ecommerce(tramites[0])[:800], \"...\\n\")\n"
      ],
      "metadata": {
        "colab": {
          "base_uri": "https://localhost:8080/"
        },
        "id": "9fJdFVv1s0rH",
        "outputId": "4da977a6-f4dc-400e-8f81-f566aa6ded3f"
      },
      "execution_count": null,
      "outputs": [
        {
          "output_type": "stream",
          "name": "stdout",
          "text": [
            "<p style=\"text-align: center;\" data-oe-version=\"2.0\"><strong>Homoclave :&nbsp;</strong>MID-ABM-001</p>\n",
            "\n",
            "<p style=\"text-align: center;\"><strong>Dependencia: </strong>Abastos de Mérida</p>\n",
            "\n",
            "<div data-name=\"Acordeón\" data-snippet=\"s_accordion\" class=\"s_accordion\">\n",
            "        <div id=\"myCollapse\" class=\" accordion\">\n",
            "            <div class=\"accordion-item position-relative z-1\" data-name=\"Accordion Item\">\n",
            "                <button type=\"button\" class=\"accordion-header accordion-button justify-content-between gap-2 bg-transparent h6-fs fw-bold text-decoration-none text-reset transition-none collapsed\" data-bs-toggle=\"collapse\" aria-expanded=\"false\" id=\"accordion-button266980_1\" data-bs-target=\"#myCollapseTab266980_1\" aria-controls=\"myCollapseTab266980_1\"><span class=\"flex-grow-1\"><p>Descripción del T ...\n",
            "\n"
          ]
        }
      ]
    },
    {
      "cell_type": "markdown",
      "source": [
        "# Definimos un método que nos resultara útil para asignar una etiqueta con la dependencia del trámite, si la dependencia ya existe asignar esa etiqueta existente, si no crearla."
      ],
      "metadata": {
        "id": "q93ZWjYeS72O"
      }
    },
    {
      "cell_type": "code",
      "source": [
        "def get_or_create_tag(tag_name):\n",
        "    \"\"\"\n",
        "    Busca tag por nombre exacto en product.tag. Si no existe, la crea.\n",
        "    Devuelve el id de tag (int).\n",
        "    \"\"\"\n",
        "    if not tag_name:\n",
        "        return None\n",
        "    # buscar exacto\n",
        "    res = odoo_jsonrpc(\"product.tag\", \"search_read\", args=[[[\"name\",\"=\", tag_name]]], kwargs={\"fields\":[\"id\"], \"limit\":1})\n",
        "    if res:\n",
        "        return res[0][\"id\"]\n",
        "    # crear\n",
        "    new_id = odoo_jsonrpc(\"product.tag\", \"create\", args=[{\"name\": tag_name}])\n",
        "    return new_id\n"
      ],
      "metadata": {
        "id": "uEUp2aMYs3ZJ"
      },
      "execution_count": null,
      "outputs": []
    },
    {
      "cell_type": "markdown",
      "source": [
        "# Construimos el método para insertar los trámites en el sitio web"
      ],
      "metadata": {
        "id": "TdtOuve6TSTK"
      }
    },
    {
      "cell_type": "code",
      "source": [
        "def upsert_tramite_as_product(tr):\n",
        "    name = (tr.get(\"cNombreLegal\") or f\"Trámite {tr.get('id') or ''}\").strip()\n",
        "    default_code = (tr.get(\"cHomoclave\") or (f\"TRAM-{tr.get('id')}\" if tr.get(\"id\") else \"\")).strip()\n",
        "    if not default_code:\n",
        "        return {\"ok\": False, \"reason\": \"no_default_code\"}\n",
        "\n",
        "    # construir html ecommerce\n",
        "    description_ecommerce = build_description_ecommerce(tr)\n",
        "\n",
        "    # tag por unidad_administrativa.cNombre\n",
        "    ua = tr.get(\"unidad_administrativa\") or {}\n",
        "    tag_name = (ua.get(\"cNombre\") or \"\").strip()\n",
        "    tag_id = None\n",
        "    if tag_name:\n",
        "        try:\n",
        "            tag_id = get_or_create_tag(tag_name)\n",
        "        except Exception as e:\n",
        "            # no detener por fallo de tag; solo reportar\n",
        "            print(f\"Warning: no se pudo get/create tag '{tag_name}': {e}\")\n",
        "            tag_id = None\n",
        "\n",
        "    # valores simples SOLO (no relaciones complejas)\n",
        "    vals = {\n",
        "        \"name\": name,\n",
        "        \"default_code\": default_code,\n",
        "        \"type\": \"service\",\n",
        "        \"list_price\": 0.0,\n",
        "        \"standard_price\": 0.0,\n",
        "        \"is_published\": True,\n",
        "        \"sale_ok\": True,\n",
        "        \"purchase_ok\": False,\n",
        "        \"taxes_id\": [(6,0,[])],        # lista vacía de impuestos\n",
        "        \"categ_id\": False,\n",
        "        \"description_ecommerce\": description_ecommerce,\n",
        "    }\n",
        "\n",
        "    # 👇 Agregar imagen si la variable global IMAGE_BASE64 existe\n",
        "    if 'IMAGE_BASE64' in globals() and IMAGE_BASE64:\n",
        "        vals[\"image_1920\"] = IMAGE_BASE64\n",
        "\n",
        "    # product_tag_ids: si tag_id existe, usar (6,0,[tag_id])\n",
        "    if tag_id:\n",
        "        vals[\"product_tag_ids\"] = [(6,0,[tag_id])]\n",
        "\n",
        "    # buscar producto existente por default_code\n",
        "    recs = odoo_jsonrpc(\"product.template\", \"search_read\",\n",
        "                        args=[[[\"default_code\",\"=\", default_code]]],\n",
        "                        kwargs={\"fields\":[\"id\"], \"limit\":1})\n",
        "    if recs:\n",
        "        pid = recs[0][\"id\"]\n",
        "        # actualizar\n",
        "        odoo_jsonrpc(\"product.template\", \"write\", args=[[pid], vals])\n",
        "        return {\"ok\": True, \"action\": \"updated\", \"id\": pid}\n",
        "    else:\n",
        "        pid = odoo_jsonrpc(\"product.template\", \"create\", args=[vals])\n",
        "        return {\"ok\": True, \"action\": \"created\", \"id\": pid}\n"
      ],
      "metadata": {
        "id": "kM0UpUd_s5hx"
      },
      "execution_count": null,
      "outputs": []
    },
    {
      "cell_type": "markdown",
      "source": [
        "# Prueba con un solo registro para ver como se generan los trámites"
      ],
      "metadata": {
        "id": "92m8PirnTiGF"
      }
    },
    {
      "cell_type": "code",
      "source": [
        "if tramites:\n",
        "    ejemplo = tramites[0]\n",
        "    html_ecom = build_description_ecommerce(ejemplo)\n",
        "    ua = ejemplo.get(\"unidad_administrativa\") or {}\n",
        "    tag_name_test = ua.get(\"cNombre\") or \"\"\n",
        "\n",
        "    vals_example = {\n",
        "        \"name\": ejemplo.get(\"cNombreLegal\"),\n",
        "        \"default_code\": ejemplo.get(\"cHomoclave\") or f\"TRAM-{ejemplo.get('id')}\",\n",
        "        \"type\": \"service\",\n",
        "        \"list_price\": 0.0,\n",
        "        \"standard_price\": 0.0,\n",
        "        \"is_published\": True,\n",
        "        \"sale_ok\": True,\n",
        "        \"purchase_ok\": False,\n",
        "        \"taxes_id\": [(6,0,[])],\n",
        "        \"categ_id\": False,\n",
        "        \"description_ecommerce\": html_ecom,\n",
        "        # product_tag_ids será resuelto al crear/actualizar (aquí sólo mostramos cómo quedaría)\n",
        "    }\n",
        "\n",
        "    # --- añadir imagen al dry-run si existe IMAGE_BASE64 en la sesión de Colab ---\n",
        "    if 'IMAGE_BASE64' in globals() and IMAGE_BASE64:\n",
        "        # en dry-run mostramos solo el prefijo/truncado para no saturar la salida\n",
        "        vals_example[\"image_1920\"] = IMAGE_BASE64[:200] + \"...(truncado para dry-run)\"\n",
        "        # si prefieres ver el tamaño real en bytes base64:\n",
        "        vals_example[\"_image_base64_len\"] = len(IMAGE_BASE64)\n",
        "\n",
        "    # --- si ya resolviste un tag de prueba, puedes mostrar cómo se vería product_tag_ids ---\n",
        "    # por ejemplo si tu get_or_create_tag devolvió tag_id_test\n",
        "    if 'tag_id_test' in globals() and tag_id_test:\n",
        "        vals_example[\"product_tag_ids\"] = [(6,0,[tag_id_test])]\n",
        "\n",
        "    import pprint\n",
        "    print(\"Dry-run payload ejemplo (no afecta Odoo):\")\n",
        "    pp = pprint.PrettyPrinter(indent=2, width=160)\n",
        "    pp.pprint(vals_example)\n",
        "    print(\"Tag candidate:\", tag_name_test)\n"
      ],
      "metadata": {
        "colab": {
          "base_uri": "https://localhost:8080/"
        },
        "id": "QVB0Wirps76l",
        "outputId": "e627f592-f9ed-4daa-e6e5-d412768fa415"
      },
      "execution_count": null,
      "outputs": [
        {
          "output_type": "stream",
          "name": "stdout",
          "text": [
            "Dry-run payload ejemplo (no afecta Odoo):\n",
            "{ '_image_base64_len': 3000,\n",
            "  'categ_id': False,\n",
            "  'default_code': 'MID-ABM-001',\n",
            "  'description_ecommerce': '<p style=\"text-align: center;\" data-oe-version=\"2.0\"><strong>Homoclave :&nbsp;</strong>MID-ABM-001</p>\\n'\n",
            "                           '\\n'\n",
            "                           '<p style=\"text-align: center;\"><strong>Dependencia: </strong>Abastos de Mérida</p>\\n'\n",
            "                           '\\n'\n",
            "                           '<div data-name=\"Acordeón\" data-snippet=\"s_accordion\" class=\"s_accordion\">\\n'\n",
            "                           '        <div id=\"myCollapse\" class=\" accordion\">\\n'\n",
            "                           '            <div class=\"accordion-item position-relative z-1\" data-name=\"Accordion Item\">\\n'\n",
            "                           '                <button type=\"button\" class=\"accordion-header accordion-button justify-content-between gap-2 bg-transparent h6-fs '\n",
            "                           'fw-bold text-decoration-none text-reset transition-none collapsed\" data-bs-toggle=\"collapse\" aria-expanded=\"false\" '\n",
            "                           'id=\"accordion-button266980_1\" data-bs-target=\"#myCollapseTab266980_1\" aria-controls=\"myCollapseTab266980_1\"><span '\n",
            "                           'class=\"flex-grow-1\"><p>Descripción del Trámite</p></span></button>\\n'\n",
            "                           '                <div class=\"accordion-collapse collapse\" data-bs-parent=\"#myCollapse\" role=\"region\" id=\"myCollapseTab266980_1\" '\n",
            "                           'aria-labelledby=\"accordion-button266980_1\">\\n'\n",
            "                           '                    <div class=\"accordion-body\">\\n'\n",
            "                           '                        <p>Servicio de sacrificio y faenado de ganado bovino, porcino, caprino, ovino y equino</p>\\n'\n",
            "                           '                    </div>\\n'\n",
            "                           '                </div>\\n'\n",
            "                           '            </div>\\n'\n",
            "                           '            <div class=\"accordion-item position-relative z-1\" data-name=\"Accordion Item\">\\n'\n",
            "                           '                <button type=\"button\" class=\"accordion-header accordion-button justify-content-between gap-2 bg-transparent h6-fs '\n",
            "                           'fw-bold text-decoration-none text-reset transition-none collapsed\" data-bs-toggle=\"collapse\" aria-expanded=\"false\" '\n",
            "                           'id=\"accordion-button266980_2\" data-bs-target=\"#myCollapseTab266980_2\" aria-controls=\"myCollapseTab266980_2\"><span '\n",
            "                           'class=\"flex-grow-1\"><p>Información de Contacto&nbsp;</p></span></button>\\n'\n",
            "                           '                <div class=\"accordion-collapse collapse\" data-bs-parent=\"#myCollapse\" role=\"region\" id=\"myCollapseTab266980_2\" '\n",
            "                           'aria-labelledby=\"accordion-button266980_2\">\\n'\n",
            "                           '                    <div class=\"accordion-body\">\\n'\n",
            "                           '                    Calle 132 No. 239 entre 59b y 59d, Fraccionamiento Yucalpetén</div>\\n'\n",
            "                           '                </div>\\n'\n",
            "                           '            </div>\\n'\n",
            "                           '            <div class=\"accordion-item position-relative z-1\" data-name=\"Accordion Item\">\\n'\n",
            "                           '                <button type=\"button\" class=\"accordion-header accordion-button justify-content-between gap-2 bg-transparent h6-fs '\n",
            "                           'fw-bold text-decoration-none text-reset transition-none collapsed\" data-bs-toggle=\"collapse\" aria-expanded=\"false\" '\n",
            "                           'id=\"accordion-button266980_3\" data-bs-target=\"#myCollapseTab266980_3\" aria-controls=\"myCollapseTab266980_3\"><span '\n",
            "                           'class=\"flex-grow-1\"><p>Tipo de costo</p></span></button>\\n'\n",
            "                           '                <div class=\"accordion-collapse collapse\" data-bs-parent=\"#myCollapse\" role=\"region\" id=\"myCollapseTab266980_3\" '\n",
            "                           'aria-labelledby=\"accordion-button266980_3\">\\n'\n",
            "                           '                    <div class=\"accordion-body\">\\n'\n",
            "                           '                    fijo</div>\\n'\n",
            "                           '                </div>\\n'\n",
            "                           '            </div>\\n'\n",
            "                           '            <div class=\"accordion-item position-relative z-1\" data-name=\"Accordion Item\">\\n'\n",
            "                           '                <button type=\"button\" class=\"accordion-header accordion-button justify-content-between gap-2 bg-transparent h6-fs '\n",
            "                           'fw-bold text-decoration-none text-reset transition-none\" data-bs-toggle=\"collapse\" aria-expanded=\"true\" '\n",
            "                           'id=\"accordion-button266980_4\" data-bs-target=\"#myCollapseTab266980_4\" aria-controls=\"myCollapseTab266980_4\"><span '\n",
            "                           'class=\"flex-grow-1\"><p>Costo</p></span></button>\\n'\n",
            "                           '                <div class=\"accordion-collapse collapse show\" data-bs-parent=\"#myCollapse\" role=\"region\" '\n",
            "                           'id=\"myCollapseTab266980_4\" aria-labelledby=\"accordion-button266980_4\">\\n'\n",
            "                           '                    <div class=\"accordion-body\">Por cabeza de ganado Vacuno $452.56(4 UMA), Por cada cabeza de ganado PORCINO: '\n",
            "                           'peso de hasta 50 kg. $113.14 (1 UMA),peso de 50.01 hasta 85.00 Kg. $169.71  (1.5 UMA) peso de entre 85.01 hasta 135 kg. $ 226.28 '\n",
            "                           '(2 UMA), peso de mas de 135 kg. $ 339.42 (3 UMA), por cabeza de ganado OVINO $ 113.14 (1 UMA), por cabeza de ganado CAPRINO $ '\n",
            "                           '113.14 (1 UMA), por cabeza de ganado EQUINO $452.56 (4 UMA).El valor de un UMA es de $113.14</div>\\n'\n",
            "                           '                </div>\\n'\n",
            "                           '            </div>\\n'\n",
            "                           '        </div>\\n'\n",
            "                           '    </div>',\n",
            "  'image_1920': 'iVBORw0KGgoAAAANSUhEUgAAAMgAAADICAYAAACtWK6eAAAIj0lEQVR42u3d223bSABG4T8Lvy9L0HbAAHy3VIHlCiKxgUgVyK7ATgOUXEG0FZh5J2ClAmsrWG0H+zA07Di2PEPxMkOeDwiwWPgiizya4V0CAAAAAAAAAAAAAAAAAAAAAAAAAAAAAAAAAAAAAAAAAAAA...(truncado '\n",
            "                'para dry-run)',\n",
            "  'is_published': True,\n",
            "  'list_price': 0.0,\n",
            "  'name': 'Sacrificio  y faenado de Ganado',\n",
            "  'purchase_ok': False,\n",
            "  'sale_ok': True,\n",
            "  'standard_price': 0.0,\n",
            "  'taxes_id': [(6, 0, [])],\n",
            "  'type': 'service'}\n",
            "Tag candidate: Abastos de Mérida\n"
          ]
        }
      ]
    },
    {
      "cell_type": "markdown",
      "source": [
        "# Insertamos los trámites para crear nuevos, a aplicar actualizaciones en los que ya existan en el sitio web. El rastreo se realiza por medio de la homoclave"
      ],
      "metadata": {
        "id": "3auJXsbFTp0u"
      }
    },
    {
      "cell_type": "code",
      "source": [
        "created = 0\n",
        "updated = 0\n",
        "failed = 0\n",
        "results = []\n",
        "\n",
        "for t in tramites:\n",
        "    try:\n",
        "        r = upsert_tramite_as_product(t)\n",
        "        results.append(r)\n",
        "        if r.get(\"ok\"):\n",
        "            if r[\"action\"] == \"created\":\n",
        "                created += 1\n",
        "            else:\n",
        "                updated += 1\n",
        "        else:\n",
        "            failed += 1\n",
        "    except Exception as e:\n",
        "        failed += 1\n",
        "        print(f\"Error procesando tramite {t.get('id')}: {e}\")\n",
        "\n",
        "print(\"Resumen final:\")\n",
        "print(\"Total trámites:\", len(tramites))\n",
        "print(\"Creados:\", created)\n",
        "print(\"Actualizados:\", updated)\n",
        "print(\"Fallidos:\", failed)\n",
        "# Mostrar primeros 10 resultados\n",
        "import itertools, pprint\n",
        "pprint.pprint(list(itertools.islice(results, 10)))\n"
      ],
      "metadata": {
        "colab": {
          "base_uri": "https://localhost:8080/"
        },
        "id": "VCxtYdnBs-LN",
        "outputId": "b19d2d04-4fd6-4048-f644-b024ba0fcb4c"
      },
      "execution_count": null,
      "outputs": [
        {
          "output_type": "stream",
          "name": "stdout",
          "text": [
            "Resumen final:\n",
            "Total trámites: 373\n",
            "Creados: 0\n",
            "Actualizados: 373\n",
            "Fallidos: 0\n",
            "[{'action': 'updated', 'id': 20, 'ok': True},\n",
            " {'action': 'updated', 'id': 21, 'ok': True},\n",
            " {'action': 'updated', 'id': 22, 'ok': True},\n",
            " {'action': 'updated', 'id': 23, 'ok': True},\n",
            " {'action': 'updated', 'id': 24, 'ok': True},\n",
            " {'action': 'updated', 'id': 25, 'ok': True},\n",
            " {'action': 'updated', 'id': 26, 'ok': True},\n",
            " {'action': 'updated', 'id': 14, 'ok': True},\n",
            " {'action': 'updated', 'id': 18, 'ok': True},\n",
            " {'action': 'updated', 'id': 27, 'ok': True}]\n"
          ]
        }
      ]
    }
  ]
}