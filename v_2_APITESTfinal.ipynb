{
  "nbformat": 4,
  "nbformat_minor": 0,
  "metadata": {
    "colab": {
      "provenance": [],
      "authorship_tag": "ABX9TyMzAMvWVYpHlVdWxiyrKkvk",
      "include_colab_link": true
    },
    "kernelspec": {
      "name": "python3",
      "display_name": "Python 3"
    },
    "language_info": {
      "name": "python"
    }
  },
  "cells": [
    {
      "cell_type": "markdown",
      "metadata": {
        "id": "view-in-github",
        "colab_type": "text"
      },
      "source": [
        "<a href=\"https://colab.research.google.com/github/PachecoLeonardo700/TECNOVAX/blob/main/v_2_APITESTfinal.ipynb\" target=\"_parent\"><img src=\"https://colab.research.google.com/assets/colab-badge.svg\" alt=\"Open In Colab\"/></a>"
      ]
    },
    {
      "cell_type": "markdown",
      "source": [
        "# Instalar las librerías necesarias, la librería pillow la usamos para convertir una imagen a formato 64 para incluir en la creación de los trámites"
      ],
      "metadata": {
        "id": "9dzcHzdZRMxx"
      }
    },
    {
      "cell_type": "code",
      "source": [
        "!pip install requests --quiet\n",
        "print(\"requests instalado\")\n",
        "\n",
        "# 1) Instalar Pillow si no está instalado\n",
        "!pip install pillow --quiet\n",
        "print(\"Pillow instalado\")\n",
        "\n",
        "# Coloca aquí tu imagen en base64 completa (sin saltos de línea)\n",
        "IMAGE_BASE64 = \"\"\"\n",
        "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\n",
        "\"\"\"\n",
        "# Limpieza de saltos de línea por si acaso\n",
        "IMAGE_BASE64 = IMAGE_BASE64.replace(\"\\n\",\"\")\n",
        "\n",
        "\n"
      ],
      "metadata": {
        "colab": {
          "base_uri": "https://localhost:8080/"
        },
        "id": "DQLdiNapw_ev",
        "outputId": "7bd8c073-ca34-440f-8756-99ab94ee4e96"
      },
      "execution_count": 2,
      "outputs": [
        {
          "output_type": "stream",
          "name": "stdout",
          "text": [
            "requests instalado\n",
            "Pillow instalado\n"
          ]
        }
      ]
    },
    {
      "cell_type": "markdown",
      "source": [
        "# Guardamos la información de la base de datos del sitio web (url del sitio, nombre de la bd, id del usuario administrador, clave api de acceso admin al sitio web y la url de la api externa de bruno para obtener los trámites)"
      ],
      "metadata": {
        "id": "_XRG7rxiRkVp"
      }
    },
    {
      "cell_type": "code",
      "source": [
        "import os\n",
        "\n",
        "# EDITA ESTO\n",
        "ODOO_URL = \"https://tramitespropuesta7.odoo.com/jsonrpc\"  # endpoint JSON-RPC\n",
        "ODOO_DB = \"tramitespropuesta7\"                           # nombre DB\n",
        "ODOO_UID = 2                                            # tu user ID\n",
        "ODOO_API_KEY = \"5ef5362118a1798f6192025dad409f84b9e5c7bc\"                        # tu API Key\n",
        "EXTERNAL_API = \"https://modmejorareg.devel.telecom.lat/api/tramites/listar\"\n",
        "\n",
        "os.environ[\"ODOO_URL\"] = ODOO_URL\n",
        "os.environ[\"ODOO_DB\"] = ODOO_DB\n",
        "os.environ[\"ODOO_UID\"] = str(ODOO_UID)\n",
        "os.environ[\"ODOO_API_KEY\"] = ODOO_API_KEY\n",
        "os.environ[\"EXTERNAL_API\"] = EXTERNAL_API\n",
        "\n",
        "print(\"Configuración establecida.\")\n"
      ],
      "metadata": {
        "colab": {
          "base_uri": "https://localhost:8080/"
        },
        "id": "O7eMYpuPsrA2",
        "outputId": "66817edc-1e03-4c64-92d9-fcd97236ecb4"
      },
      "execution_count": 3,
      "outputs": [
        {
          "output_type": "stream",
          "name": "stdout",
          "text": [
            "Configuración establecida.\n"
          ]
        }
      ]
    },
    {
      "cell_type": "markdown",
      "source": [
        "# Definimos el método que sirve para cargar los elementos en la bd"
      ],
      "metadata": {
        "id": "aq02NXGvSIIG"
      }
    },
    {
      "cell_type": "code",
      "source": [
        "import requests, json\n",
        "from html import escape\n",
        "\n",
        "def odoo_jsonrpc(model, method, args=None, kwargs=None):\n",
        "    payload = {\n",
        "        \"jsonrpc\": \"2.0\",\n",
        "        \"method\": \"call\",\n",
        "        \"params\": {\n",
        "            \"service\": \"object\",\n",
        "            \"method\": \"execute_kw\",\n",
        "            \"args\": [\n",
        "                os.environ[\"ODOO_DB\"],\n",
        "                int(os.environ[\"ODOO_UID\"]),\n",
        "                os.environ[\"ODOO_API_KEY\"],\n",
        "                model,\n",
        "                method,\n",
        "                args or [],\n",
        "                kwargs or {}\n",
        "            ]\n",
        "        },\n",
        "        \"id\": 1\n",
        "    }\n",
        "    r = requests.post(os.environ[\"ODOO_URL\"], json=payload, timeout=60)\n",
        "    r.raise_for_status()\n",
        "    resp = r.json()\n",
        "    if \"error\" in resp:\n",
        "        raise Exception(json.dumps(resp[\"error\"], indent=2))\n",
        "    return resp.get(\"result\")\n",
        "\n",
        "# prueba mínima (opcional)\n",
        "# print(odoo_jsonrpc(\"res.partner\",\"search_read\", args=[[[\"id\",\">\",0]]], kwargs={\"limit\":1}))\n"
      ],
      "metadata": {
        "id": "i1k4cCNkssyI"
      },
      "execution_count": 4,
      "outputs": []
    },
    {
      "cell_type": "markdown",
      "source": [
        "# Definimos el método para obtener la información de la api solicitando solo los datos que nos resultan útiles para utilizar en el sitio web"
      ],
      "metadata": {
        "id": "hR8fGKdqSgCm"
      }
    },
    {
      "cell_type": "code",
      "source": [
        "r = requests.get(os.environ[\"EXTERNAL_API\"], timeout=30)\n",
        "r.raise_for_status()\n",
        "payload = r.json()\n",
        "tramites_raw = payload.get(\"data\") or []\n",
        "print(f\"Trámites obtenidos: {len(tramites_raw)}\")\n",
        "\n",
        "def pick_fields(t):\n",
        "    return {\n",
        "        \"id\": t.get(\"id\"),\n",
        "        \"cNombreLegal\": t.get(\"cNombreLegal\"),\n",
        "        \"cHomoclave\": t.get(\"cHomoclave\"),\n",
        "        \"cDescripcion\": t.get(\"cDescripcion\"),\n",
        "        \"cInformacionContacto\": t.get(\"cInformacionContacto\"),\n",
        "        \"enumTipoCosto\": t.get(\"enumTipoCosto\"),\n",
        "        \"cCosto\": t.get(\"cCosto\"),\n",
        "        \"unidad_administrativa\": t.get(\"unidad_administrativa\") or {},\n",
        "    }\n",
        "\n",
        "tramites = [pick_fields(t) for t in tramites_raw]\n",
        "\n",
        "# mostrar ejemplo\n",
        "import pprint\n",
        "pp = pprint.PrettyPrinter(indent=2)\n",
        "if tramites:\n",
        "    print(\"Ejemplo (primer trámite filtrado):\")\n",
        "    pp.pprint(tramites[0])\n"
      ],
      "metadata": {
        "colab": {
          "base_uri": "https://localhost:8080/"
        },
        "id": "cn6xIbYtsvj1",
        "outputId": "70a699dd-cab1-49ea-88f6-80185cf0e906"
      },
      "execution_count": 5,
      "outputs": [
        {
          "output_type": "stream",
          "name": "stdout",
          "text": [
            "Trámites obtenidos: 373\n",
            "Ejemplo (primer trámite filtrado):\n",
            "{ 'cCosto': 'Por cabeza de ganado Vacuno $452.56(4 UMA), Por cada cabeza de '\n",
            "            'ganado PORCINO: peso de hasta 50 kg. $113.14 (1 UMA),peso de '\n",
            "            '50.01 hasta 85.00 Kg. $169.71  (1.5 UMA) peso de entre 85.01 '\n",
            "            'hasta 135 kg. $ 226.28 (2 UMA), peso de mas de 135 kg. $ 339.42 '\n",
            "            '(3 UMA), por cabeza de ganado OVINO $ 113.14 (1 UMA), por cabeza '\n",
            "            'de ganado CAPRINO $ 113.14 (1 UMA), por cabeza de ganado EQUINO '\n",
            "            '$452.56 (4 UMA).El valor de un UMA es de $113.14',\n",
            "  'cDescripcion': 'Servicio de sacrificio y faenado de ganado bovino, porcino, '\n",
            "                  'caprino, ovino y equino',\n",
            "  'cHomoclave': 'MID-ABM-001',\n",
            "  'cInformacionContacto': 'Calle 132 No. 239 entre 59b y 59d, Fraccionamiento '\n",
            "                          'Yucalpetén',\n",
            "  'cNombreLegal': 'Sacrificio  y faenado de Ganado',\n",
            "  'enumTipoCosto': 'fijo',\n",
            "  'id': 1,\n",
            "  'unidad_administrativa': { 'cNombre': 'Abastos de Mérida',\n",
            "                             'cSiglas': 'ABM',\n",
            "                             'id': 1}}\n"
          ]
        }
      ]
    },
    {
      "cell_type": "markdown",
      "source": [
        "# Definimos el método que sirve para construir el apartado de información de cada trámite"
      ],
      "metadata": {
        "id": "uFAWR6lASsdN"
      }
    },
    {
      "cell_type": "code",
      "source": [
        "def build_description_ecommerce(t):\n",
        "    e = escape\n",
        "    ua = t.get(\"unidad_administrativa\") or {}\n",
        "    cNombre = e(ua.get(\"cNombre\") or \"\")\n",
        "    cHomoclave = e(t.get(\"cHomoclave\") or \"\")\n",
        "    cDescripcion = e(t.get(\"cDescripcion\") or \"\")\n",
        "    cInformacionContacto = e(t.get(\"cInformacionContacto\") or \"\")\n",
        "    enumTipoCosto = e(t.get(\"enumTipoCosto\") or \"\")\n",
        "    cCosto = e(t.get(\"cCosto\") or \"\")\n",
        "\n",
        "    html = (\n",
        "f'<p style=\"text-align: center;\" data-oe-version=\"2.0\"><strong>Homoclave :&nbsp;</strong>{cHomoclave}</p>\\n\\n'\n",
        "f'<p style=\"text-align: center;\"><strong>Dependencia: </strong>{cNombre}</p>\\n\\n'\n",
        "'<div data-name=\"Acordeón\" data-snippet=\"s_accordion\" class=\"s_accordion\">\\n'\n",
        "'        <div id=\"myCollapse\" class=\" accordion\">\\n'\n",
        "'            <div class=\"accordion-item position-relative z-1\" data-name=\"Accordion Item\">\\n'\n",
        "'                <button type=\"button\" class=\"accordion-header accordion-button justify-content-between gap-2 bg-transparent h6-fs fw-bold text-decoration-none text-reset transition-none collapsed\" data-bs-toggle=\"collapse\" aria-expanded=\"false\" id=\"accordion-button266980_1\" data-bs-target=\"#myCollapseTab266980_1\" aria-controls=\"myCollapseTab266980_1\"><span class=\"flex-grow-1\"><p>Descripción del Trámite</p></span></button>\\n'\n",
        "'                <div class=\"accordion-collapse collapse\" data-bs-parent=\"#myCollapse\" role=\"region\" id=\"myCollapseTab266980_1\" aria-labelledby=\"accordion-button266980_1\">\\n'\n",
        "'                    <div class=\"accordion-body\">\\n'\n",
        "f'                        <p>{cDescripcion}</p>\\n'\n",
        "'                    </div>\\n'\n",
        "'                </div>\\n'\n",
        "'            </div>\\n'\n",
        "'            <div class=\"accordion-item position-relative z-1\" data-name=\"Accordion Item\">\\n'\n",
        "'                <button type=\"button\" class=\"accordion-header accordion-button justify-content-between gap-2 bg-transparent h6-fs fw-bold text-decoration-none text-reset transition-none collapsed\" data-bs-toggle=\"collapse\" aria-expanded=\"false\" id=\"accordion-button266980_2\" data-bs-target=\"#myCollapseTab266980_2\" aria-controls=\"myCollapseTab266980_2\"><span class=\"flex-grow-1\"><p>Información de Contacto&nbsp;</p></span></button>\\n'\n",
        "'                <div class=\"accordion-collapse collapse\" data-bs-parent=\"#myCollapse\" role=\"region\" id=\"myCollapseTab266980_2\" aria-labelledby=\"accordion-button266980_2\">\\n'\n",
        "'                    <div class=\"accordion-body\">\\n'\n",
        "f'                    {cInformacionContacto}</div>\\n'\n",
        "'                </div>\\n'\n",
        "'            </div>\\n'\n",
        "'            <div class=\"accordion-item position-relative z-1\" data-name=\"Accordion Item\">\\n'\n",
        "'                <button type=\"button\" class=\"accordion-header accordion-button justify-content-between gap-2 bg-transparent h6-fs fw-bold text-decoration-none text-reset transition-none collapsed\" data-bs-toggle=\"collapse\" aria-expanded=\"false\" id=\"accordion-button266980_3\" data-bs-target=\"#myCollapseTab266980_3\" aria-controls=\"myCollapseTab266980_3\"><span class=\"flex-grow-1\"><p>Tipo de costo</p></span></button>\\n'\n",
        "'                <div class=\"accordion-collapse collapse\" data-bs-parent=\"#myCollapse\" role=\"region\" id=\"myCollapseTab266980_3\" aria-labelledby=\"accordion-button266980_3\">\\n'\n",
        "'                    <div class=\"accordion-body\">\\n'\n",
        "f'                    {enumTipoCosto}</div>\\n'\n",
        "'                </div>\\n'\n",
        "'            </div>\\n'\n",
        "'            <div class=\"accordion-item position-relative z-1\" data-name=\"Accordion Item\">\\n'\n",
        "'                <button type=\"button\" class=\"accordion-header accordion-button justify-content-between gap-2 bg-transparent h6-fs fw-bold text-decoration-none text-reset transition-none\" data-bs-toggle=\"collapse\" aria-expanded=\"true\" id=\"accordion-button266980_4\" data-bs-target=\"#myCollapseTab266980_4\" aria-controls=\"myCollapseTab266980_4\"><span class=\"flex-grow-1\"><p>Costo</p></span></button>\\n'\n",
        "'                <div class=\"accordion-collapse collapse show\" data-bs-parent=\"#myCollapse\" role=\"region\" id=\"myCollapseTab266980_4\" aria-labelledby=\"accordion-button266980_4\">\\n'\n",
        "'                    <div class=\"accordion-body\">'\n",
        "f'{cCosto}</div>\\n'\n",
        "'                </div>\\n'\n",
        "'            </div>\\n'\n",
        "'        </div>\\n'\n",
        "'    </div>'\n",
        "    )\n",
        "    return html\n",
        "\n",
        "# ejemplo\n",
        "if tramites:\n",
        "    print(build_description_ecommerce(tramites[0])[:800], \"...\\n\")\n"
      ],
      "metadata": {
        "colab": {
          "base_uri": "https://localhost:8080/"
        },
        "id": "9fJdFVv1s0rH",
        "outputId": "b9eed37b-0322-44de-c90d-6df2e5442717"
      },
      "execution_count": 6,
      "outputs": [
        {
          "output_type": "stream",
          "name": "stdout",
          "text": [
            "<p style=\"text-align: center;\" data-oe-version=\"2.0\"><strong>Homoclave :&nbsp;</strong>MID-ABM-001</p>\n",
            "\n",
            "<p style=\"text-align: center;\"><strong>Dependencia: </strong>Abastos de Mérida</p>\n",
            "\n",
            "<div data-name=\"Acordeón\" data-snippet=\"s_accordion\" class=\"s_accordion\">\n",
            "        <div id=\"myCollapse\" class=\" accordion\">\n",
            "            <div class=\"accordion-item position-relative z-1\" data-name=\"Accordion Item\">\n",
            "                <button type=\"button\" class=\"accordion-header accordion-button justify-content-between gap-2 bg-transparent h6-fs fw-bold text-decoration-none text-reset transition-none collapsed\" data-bs-toggle=\"collapse\" aria-expanded=\"false\" id=\"accordion-button266980_1\" data-bs-target=\"#myCollapseTab266980_1\" aria-controls=\"myCollapseTab266980_1\"><span class=\"flex-grow-1\"><p>Descripción del T ...\n",
            "\n"
          ]
        }
      ]
    },
    {
      "cell_type": "markdown",
      "source": [
        "# Definimos un método que nos resultara útil para asignar una etiqueta con la dependencia del trámite, si la dependencia ya existe asignar esa etiqueta existente, si no crearla."
      ],
      "metadata": {
        "id": "q93ZWjYeS72O"
      }
    },
    {
      "cell_type": "code",
      "source": [
        "def get_or_create_tag(tag_name):\n",
        "    \"\"\"\n",
        "    Busca tag por nombre exacto en product.tag. Si no existe, la crea.\n",
        "    Devuelve el id de tag (int).\n",
        "    \"\"\"\n",
        "    if not tag_name:\n",
        "        return None\n",
        "    # buscar exacto\n",
        "    res = odoo_jsonrpc(\"product.tag\", \"search_read\", args=[[[\"name\",\"=\", tag_name]]], kwargs={\"fields\":[\"id\"], \"limit\":1})\n",
        "    if res:\n",
        "        return res[0][\"id\"]\n",
        "    # crear\n",
        "    new_id = odoo_jsonrpc(\"product.tag\", \"create\", args=[{\"name\": tag_name}])\n",
        "    return new_id\n"
      ],
      "metadata": {
        "id": "uEUp2aMYs3ZJ"
      },
      "execution_count": 7,
      "outputs": []
    },
    {
      "cell_type": "markdown",
      "source": [
        "# Construimos el método para insertar los trámites en el sitio web"
      ],
      "metadata": {
        "id": "TdtOuve6TSTK"
      }
    },
    {
      "cell_type": "code",
      "source": [
        "def upsert_tramite_as_product(tr):\n",
        "    name = (tr.get(\"cNombreLegal\") or f\"Trámite {tr.get('id') or ''}\").strip()\n",
        "    default_code = (tr.get(\"cHomoclave\") or (f\"TRAM-{tr.get('id')}\" if tr.get(\"id\") else \"\")).strip()\n",
        "    if not default_code:\n",
        "        return {\"ok\": False, \"reason\": \"no_default_code\"}\n",
        "\n",
        "    # construir html ecommerce\n",
        "    description_ecommerce = build_description_ecommerce(tr)\n",
        "\n",
        "    # tag por unidad_administrativa.cNombre\n",
        "    ua = tr.get(\"unidad_administrativa\") or {}\n",
        "    tag_name = (ua.get(\"cNombre\") or \"\").strip()\n",
        "    tag_id = None\n",
        "    if tag_name:\n",
        "        try:\n",
        "            tag_id = get_or_create_tag(tag_name)\n",
        "        except Exception as e:\n",
        "            # no detener por fallo de tag; solo reportar\n",
        "            print(f\"Warning: no se pudo get/create tag '{tag_name}': {e}\")\n",
        "            tag_id = None\n",
        "\n",
        "    # valores simples SOLO (no relaciones complejas)\n",
        "    vals = {\n",
        "        \"name\": name,\n",
        "        \"default_code\": default_code,\n",
        "        \"type\": \"service\",\n",
        "        \"list_price\": 0.0,\n",
        "        \"standard_price\": 0.0,\n",
        "        \"is_published\": True,\n",
        "        \"sale_ok\": True,\n",
        "        \"purchase_ok\": False,\n",
        "        \"taxes_id\": [(6,0,[])],        # lista vacía de impuestos\n",
        "        \"categ_id\": False,\n",
        "        \"description_ecommerce\": description_ecommerce,\n",
        "    }\n",
        "\n",
        "    # 👇 Agregar imagen si la variable global IMAGE_BASE64 existe\n",
        "    if 'IMAGE_BASE64' in globals() and IMAGE_BASE64:\n",
        "        vals[\"image_1920\"] = IMAGE_BASE64\n",
        "\n",
        "    # product_tag_ids: si tag_id existe, usar (6,0,[tag_id])\n",
        "    if tag_id:\n",
        "        vals[\"product_tag_ids\"] = [(6,0,[tag_id])]\n",
        "\n",
        "    # buscar producto existente por default_code\n",
        "    recs = odoo_jsonrpc(\"product.template\", \"search_read\",\n",
        "                        args=[[[\"default_code\",\"=\", default_code]]],\n",
        "                        kwargs={\"fields\":[\"id\"], \"limit\":1})\n",
        "    if recs:\n",
        "        pid = recs[0][\"id\"]\n",
        "        # actualizar\n",
        "        odoo_jsonrpc(\"product.template\", \"write\", args=[[pid], vals])\n",
        "        return {\"ok\": True, \"action\": \"updated\", \"id\": pid}\n",
        "    else:\n",
        "        pid = odoo_jsonrpc(\"product.template\", \"create\", args=[vals])\n",
        "        return {\"ok\": True, \"action\": \"created\", \"id\": pid}\n"
      ],
      "metadata": {
        "id": "kM0UpUd_s5hx"
      },
      "execution_count": 8,
      "outputs": []
    },
    {
      "cell_type": "markdown",
      "source": [
        "# Prueba con un solo registro para ver como se generan los trámites"
      ],
      "metadata": {
        "id": "92m8PirnTiGF"
      }
    },
    {
      "cell_type": "code",
      "source": [
        "if tramites:\n",
        "    ejemplo = tramites[0]\n",
        "    html_ecom = build_description_ecommerce(ejemplo)\n",
        "    ua = ejemplo.get(\"unidad_administrativa\") or {}\n",
        "    tag_name_test = ua.get(\"cNombre\") or \"\"\n",
        "\n",
        "    vals_example = {\n",
        "        \"name\": ejemplo.get(\"cNombreLegal\"),\n",
        "        \"default_code\": ejemplo.get(\"cHomoclave\") or f\"TRAM-{ejemplo.get('id')}\",\n",
        "        \"type\": \"service\",\n",
        "        \"list_price\": 0.0,\n",
        "        \"standard_price\": 0.0,\n",
        "        \"is_published\": True,\n",
        "        \"sale_ok\": True,\n",
        "        \"purchase_ok\": False,\n",
        "        \"taxes_id\": [(6,0,[])],\n",
        "        \"categ_id\": False,\n",
        "        \"description_ecommerce\": html_ecom,\n",
        "        # product_tag_ids será resuelto al crear/actualizar (aquí sólo mostramos cómo quedaría)\n",
        "    }\n",
        "\n",
        "    # --- añadir imagen al dry-run si existe IMAGE_BASE64 en la sesión de Colab ---\n",
        "    if 'IMAGE_BASE64' in globals() and IMAGE_BASE64:\n",
        "        # en dry-run mostramos solo el prefijo/truncado para no saturar la salida\n",
        "        vals_example[\"image_1920\"] = IMAGE_BASE64[:200] + \"...(truncado para dry-run)\"\n",
        "        # si prefieres ver el tamaño real en bytes base64:\n",
        "        vals_example[\"_image_base64_len\"] = len(IMAGE_BASE64)\n",
        "\n",
        "    # --- si ya resolviste un tag de prueba, puedes mostrar cómo se vería product_tag_ids ---\n",
        "    # por ejemplo si tu get_or_create_tag devolvió tag_id_test\n",
        "    if 'tag_id_test' in globals() and tag_id_test:\n",
        "        vals_example[\"product_tag_ids\"] = [(6,0,[tag_id_test])]\n",
        "\n",
        "    import pprint\n",
        "    print(\"Dry-run payload ejemplo (no afecta Odoo):\")\n",
        "    pp = pprint.PrettyPrinter(indent=2, width=160)\n",
        "    pp.pprint(vals_example)\n",
        "    print(\"Tag candidate:\", tag_name_test)\n"
      ],
      "metadata": {
        "colab": {
          "base_uri": "https://localhost:8080/"
        },
        "id": "QVB0Wirps76l",
        "outputId": "0d38d3a2-941a-4a55-cebe-8e1492d5ccfb"
      },
      "execution_count": 9,
      "outputs": [
        {
          "output_type": "stream",
          "name": "stdout",
          "text": [
            "Dry-run payload ejemplo (no afecta Odoo):\n",
            "{ '_image_base64_len': 3088,\n",
            "  'categ_id': False,\n",
            "  'default_code': 'MID-ABM-001',\n",
            "  'description_ecommerce': '<p style=\"text-align: center;\" data-oe-version=\"2.0\"><strong>Homoclave :&nbsp;</strong>MID-ABM-001</p>\\n'\n",
            "                           '\\n'\n",
            "                           '<p style=\"text-align: center;\"><strong>Dependencia: </strong>Abastos de Mérida</p>\\n'\n",
            "                           '\\n'\n",
            "                           '<div data-name=\"Acordeón\" data-snippet=\"s_accordion\" class=\"s_accordion\">\\n'\n",
            "                           '        <div id=\"myCollapse\" class=\" accordion\">\\n'\n",
            "                           '            <div class=\"accordion-item position-relative z-1\" data-name=\"Accordion Item\">\\n'\n",
            "                           '                <button type=\"button\" class=\"accordion-header accordion-button justify-content-between gap-2 bg-transparent h6-fs '\n",
            "                           'fw-bold text-decoration-none text-reset transition-none collapsed\" data-bs-toggle=\"collapse\" aria-expanded=\"false\" '\n",
            "                           'id=\"accordion-button266980_1\" data-bs-target=\"#myCollapseTab266980_1\" aria-controls=\"myCollapseTab266980_1\"><span '\n",
            "                           'class=\"flex-grow-1\"><p>Descripción del Trámite</p></span></button>\\n'\n",
            "                           '                <div class=\"accordion-collapse collapse\" data-bs-parent=\"#myCollapse\" role=\"region\" id=\"myCollapseTab266980_1\" '\n",
            "                           'aria-labelledby=\"accordion-button266980_1\">\\n'\n",
            "                           '                    <div class=\"accordion-body\">\\n'\n",
            "                           '                        <p>Servicio de sacrificio y faenado de ganado bovino, porcino, caprino, ovino y equino</p>\\n'\n",
            "                           '                    </div>\\n'\n",
            "                           '                </div>\\n'\n",
            "                           '            </div>\\n'\n",
            "                           '            <div class=\"accordion-item position-relative z-1\" data-name=\"Accordion Item\">\\n'\n",
            "                           '                <button type=\"button\" class=\"accordion-header accordion-button justify-content-between gap-2 bg-transparent h6-fs '\n",
            "                           'fw-bold text-decoration-none text-reset transition-none collapsed\" data-bs-toggle=\"collapse\" aria-expanded=\"false\" '\n",
            "                           'id=\"accordion-button266980_2\" data-bs-target=\"#myCollapseTab266980_2\" aria-controls=\"myCollapseTab266980_2\"><span '\n",
            "                           'class=\"flex-grow-1\"><p>Información de Contacto&nbsp;</p></span></button>\\n'\n",
            "                           '                <div class=\"accordion-collapse collapse\" data-bs-parent=\"#myCollapse\" role=\"region\" id=\"myCollapseTab266980_2\" '\n",
            "                           'aria-labelledby=\"accordion-button266980_2\">\\n'\n",
            "                           '                    <div class=\"accordion-body\">\\n'\n",
            "                           '                    Calle 132 No. 239 entre 59b y 59d, Fraccionamiento Yucalpetén</div>\\n'\n",
            "                           '                </div>\\n'\n",
            "                           '            </div>\\n'\n",
            "                           '            <div class=\"accordion-item position-relative z-1\" data-name=\"Accordion Item\">\\n'\n",
            "                           '                <button type=\"button\" class=\"accordion-header accordion-button justify-content-between gap-2 bg-transparent h6-fs '\n",
            "                           'fw-bold text-decoration-none text-reset transition-none collapsed\" data-bs-toggle=\"collapse\" aria-expanded=\"false\" '\n",
            "                           'id=\"accordion-button266980_3\" data-bs-target=\"#myCollapseTab266980_3\" aria-controls=\"myCollapseTab266980_3\"><span '\n",
            "                           'class=\"flex-grow-1\"><p>Tipo de costo</p></span></button>\\n'\n",
            "                           '                <div class=\"accordion-collapse collapse\" data-bs-parent=\"#myCollapse\" role=\"region\" id=\"myCollapseTab266980_3\" '\n",
            "                           'aria-labelledby=\"accordion-button266980_3\">\\n'\n",
            "                           '                    <div class=\"accordion-body\">\\n'\n",
            "                           '                    fijo</div>\\n'\n",
            "                           '                </div>\\n'\n",
            "                           '            </div>\\n'\n",
            "                           '            <div class=\"accordion-item position-relative z-1\" data-name=\"Accordion Item\">\\n'\n",
            "                           '                <button type=\"button\" class=\"accordion-header accordion-button justify-content-between gap-2 bg-transparent h6-fs '\n",
            "                           'fw-bold text-decoration-none text-reset transition-none\" data-bs-toggle=\"collapse\" aria-expanded=\"true\" '\n",
            "                           'id=\"accordion-button266980_4\" data-bs-target=\"#myCollapseTab266980_4\" aria-controls=\"myCollapseTab266980_4\"><span '\n",
            "                           'class=\"flex-grow-1\"><p>Costo</p></span></button>\\n'\n",
            "                           '                <div class=\"accordion-collapse collapse show\" data-bs-parent=\"#myCollapse\" role=\"region\" '\n",
            "                           'id=\"myCollapseTab266980_4\" aria-labelledby=\"accordion-button266980_4\">\\n'\n",
            "                           '                    <div class=\"accordion-body\">Por cabeza de ganado Vacuno $452.56(4 UMA), Por cada cabeza de ganado PORCINO: '\n",
            "                           'peso de hasta 50 kg. $113.14 (1 UMA),peso de 50.01 hasta 85.00 Kg. $169.71  (1.5 UMA) peso de entre 85.01 hasta 135 kg. $ 226.28 '\n",
            "                           '(2 UMA), peso de mas de 135 kg. $ 339.42 (3 UMA), por cabeza de ganado OVINO $ 113.14 (1 UMA), por cabeza de ganado CAPRINO $ '\n",
            "                           '113.14 (1 UMA), por cabeza de ganado EQUINO $452.56 (4 UMA).El valor de un UMA es de $113.14</div>\\n'\n",
            "                           '                </div>\\n'\n",
            "                           '            </div>\\n'\n",
            "                           '        </div>\\n'\n",
            "                           '    </div>',\n",
            "  'image_1920': 'iVBORw0KGgoAAAANSUhEUgAAAMgAAADICAYAAACtWK6eAAAAGXRFWHRTb2Z0d2FyZQBBZG9iZSBJbWFnZVJlYWR5ccllPAAACKxJREFUeNrsne1xGjkYgJUb/z9K4DogM/z3UkHsCgw0EFMBTgUkDRhcQbgKTP57xqQCcxUc18GtkBgcx4C0q1292n2emU1ubmKzrPTs...(truncado '\n",
            "                'para dry-run)',\n",
            "  'is_published': True,\n",
            "  'list_price': 0.0,\n",
            "  'name': 'Sacrificio  y faenado de Ganado',\n",
            "  'purchase_ok': False,\n",
            "  'sale_ok': True,\n",
            "  'standard_price': 0.0,\n",
            "  'taxes_id': [(6, 0, [])],\n",
            "  'type': 'service'}\n",
            "Tag candidate: Abastos de Mérida\n"
          ]
        }
      ]
    },
    {
      "cell_type": "markdown",
      "source": [
        "# Función auxiliar para generar mensaje en registro de odoo para ver que tramites se modificaron"
      ],
      "metadata": {
        "id": "hmMFLDTYaL_i"
      }
    },
    {
      "cell_type": "code",
      "source": [
        "def log_odoo_message(api_key, message_body):\n",
        "    try:\n",
        "        payload = {\n",
        "            \"jsonrpc\": \"2.0\",\n",
        "            \"method\": \"call\",\n",
        "            \"params\": {\n",
        "                \"service\": \"object\",\n",
        "                \"method\": \"execute_kw\",\n",
        "                \"args\": [\n",
        "                    \"tramitespropuesta7\",  # nombre de tu base\n",
        "                    2,  # ID del usuario (ajusta si usas otro)\n",
        "                    ODOO_API_KEY,\n",
        "                    \"mail.message\",\n",
        "                    \"create\",\n",
        "                    [{\n",
        "                        \"body\": message_body,\n",
        "                        \"model\": \"product.template\",\n",
        "                        \"subject\": \"Sync Tramites\",\n",
        "                        \"message_type\": \"notification\",\n",
        "                        \"subtype_id\": 1,  # Mensaje simple\n",
        "                    }]\n",
        "                ]\n",
        "            },\n",
        "            \"id\": 1\n",
        "        }\n",
        "        resp = requests.post(\"https://tramitespropuesta7.odoo.com/jsonrpc\", json=payload)\n",
        "        if resp.status_code == 200:\n",
        "            print(\"📨 Log guardado en Odoo:\", message_body[:100])\n",
        "        else:\n",
        "            print(\"⚠️ No se pudo guardar log en Odoo:\", resp.text)\n",
        "    except Exception as e:\n",
        "        print(\"⚠️ Error creando log:\", e)\n"
      ],
      "metadata": {
        "id": "rP2tAGHlaX95"
      },
      "execution_count": 10,
      "outputs": []
    },
    {
      "cell_type": "markdown",
      "source": [
        "# Insertamos los trámites para crear nuevos, a aplicar actualizaciones en los que ya existan en el sitio web. El rastreo se realiza por medio de la homoclave"
      ],
      "metadata": {
        "id": "3auJXsbFTp0u"
      }
    },
    {
      "cell_type": "code",
      "source": [
        "created = 0\n",
        "updated = 0\n",
        "failed = 0\n",
        "results = []\n",
        "\n",
        "for t in tramites:\n",
        "    try:\n",
        "        r = upsert_tramite_as_product(t)\n",
        "        results.append(r)\n",
        "        cHomoclave = t.get(\"cHomoclave\")\n",
        "        if r.get(\"ok\"):\n",
        "            if r[\"action\"] == \"created\":\n",
        "                created += 1\n",
        "                log_odoo_message(ODOO_API_KEY, f\"🟢 Trámite {cHomoclave} creado exitosamente en productos.\")\n",
        "            else:\n",
        "                updated += 1\n",
        "                log_odoo_message(ODOO_API_KEY, f\"🟡 Trámite {cHomoclave} actualizado correctamente (sin duplicar).\")\n",
        "        else:\n",
        "            failed += 1\n",
        "            log_odoo_message(ODOO_API_KEY, f\"🔴 Trámite {cHomoclave} falló: {r.get('error','sin detalle')}\")\n",
        "    except Exception as e:\n",
        "        failed += 1\n",
        "        log_odoo_message(ODOO_API_KEY, f\"🔴 Error procesando trámite {t.get('cHomoclave')}: {str(e)}\")\n",
        "        print(f\"Error procesando tramite {t.get('id')}: {e}\")\n",
        "\n",
        "print(\"Resumen final:\")\n",
        "print(\"Total trámites:\", len(tramites))\n",
        "print(\"Creados:\", created)\n",
        "print(\"Actualizados:\", updated)\n",
        "print(\"Fallidos:\", failed)\n",
        "import itertools, pprint\n",
        "pprint.pprint(list(itertools.islice(results, 10)))\n",
        "\n"
      ],
      "metadata": {
        "colab": {
          "base_uri": "https://localhost:8080/"
        },
        "id": "VCxtYdnBs-LN",
        "outputId": "8e16613d-878e-4216-d6cd-5ac3072f822c"
      },
      "execution_count": null,
      "outputs": [
        {
          "output_type": "stream",
          "name": "stdout",
          "text": [
            "📨 Log guardado en Odoo: 🟡 Trámite MID-ABM-001 actualizado correctamente (sin duplicar).\n",
            "📨 Log guardado en Odoo: 🟡 Trámite MID-ADM-002 actualizado correctamente (sin duplicar).\n",
            "📨 Log guardado en Odoo: 🟡 Trámite MID-ADM-003 actualizado correctamente (sin duplicar).\n",
            "📨 Log guardado en Odoo: 🟡 Trámite MID-ADM-004 actualizado correctamente (sin duplicar).\n",
            "📨 Log guardado en Odoo: 🟡 Trámite MID-ADM-005 actualizado correctamente (sin duplicar).\n",
            "📨 Log guardado en Odoo: 🟡 Trámite MID-BIH-006 actualizado correctamente (sin duplicar).\n",
            "📨 Log guardado en Odoo: 🟡 Trámite MID-BIH-007 actualizado correctamente (sin duplicar).\n",
            "📨 Log guardado en Odoo: 🟡 Trámite MID-BIH-008 actualizado correctamente (sin duplicar).\n",
            "📨 Log guardado en Odoo: 🟡 Trámite MID-BIH-009 actualizado correctamente (sin duplicar).\n",
            "📨 Log guardado en Odoo: 🟡 Trámite MID-BIH-010 actualizado correctamente (sin duplicar).\n",
            "📨 Log guardado en Odoo: 🟡 Trámite MID-BIH-011 actualizado correctamente (sin duplicar).\n",
            "📨 Log guardado en Odoo: 🟡 Trámite MID-BIH-012 actualizado correctamente (sin duplicar).\n",
            "📨 Log guardado en Odoo: 🟡 Trámite MID-BIH-013 actualizado correctamente (sin duplicar).\n",
            "📨 Log guardado en Odoo: 🟡 Trámite MID-BIH-014 actualizado correctamente (sin duplicar).\n",
            "📨 Log guardado en Odoo: 🟡 Trámite MID-BIH-015 actualizado correctamente (sin duplicar).\n",
            "📨 Log guardado en Odoo: 🟡 Trámite MID-BIH-016 actualizado correctamente (sin duplicar).\n",
            "📨 Log guardado en Odoo: 🟡 Trámite MID-BIH-017 actualizado correctamente (sin duplicar).\n",
            "📨 Log guardado en Odoo: 🟡 Trámite MID-BIH-018 actualizado correctamente (sin duplicar).\n",
            "📨 Log guardado en Odoo: 🟡 Trámite MID-BIH-019 actualizado correctamente (sin duplicar).\n",
            "📨 Log guardado en Odoo: 🟡 Trámite MID-BIH-020 actualizado correctamente (sin duplicar).\n",
            "📨 Log guardado en Odoo: 🟡 Trámite MID-BIH-021 actualizado correctamente (sin duplicar).\n",
            "📨 Log guardado en Odoo: 🟡 Trámite MID-BIH-022 actualizado correctamente (sin duplicar).\n",
            "📨 Log guardado en Odoo: 🟡 Trámite MID-BIH-023 actualizado correctamente (sin duplicar).\n",
            "📨 Log guardado en Odoo: 🟡 Trámite MID-BIH-024 actualizado correctamente (sin duplicar).\n",
            "📨 Log guardado en Odoo: 🟡 Trámite MID-BIH-025 actualizado correctamente (sin duplicar).\n",
            "📨 Log guardado en Odoo: 🟡 Trámite MID-BIH-026 actualizado correctamente (sin duplicar).\n",
            "📨 Log guardado en Odoo: 🟡 Trámite MID-BIH-027 actualizado correctamente (sin duplicar).\n",
            "📨 Log guardado en Odoo: 🟡 Trámite MID-BIH-028 actualizado correctamente (sin duplicar).\n",
            "📨 Log guardado en Odoo: 🟡 Trámite MID-BIH-029 actualizado correctamente (sin duplicar).\n",
            "📨 Log guardado en Odoo: 🟡 Trámite MID-BIH-030 actualizado correctamente (sin duplicar).\n",
            "📨 Log guardado en Odoo: 🟡 Trámite MID-BIH-031 actualizado correctamente (sin duplicar).\n",
            "📨 Log guardado en Odoo: 🟡 Trámite MID-BIH-032 actualizado correctamente (sin duplicar).\n",
            "📨 Log guardado en Odoo: 🟡 Trámite MID-BIH-033 actualizado correctamente (sin duplicar).\n",
            "📨 Log guardado en Odoo: 🟡 Trámite MID-BIH-034 actualizado correctamente (sin duplicar).\n",
            "📨 Log guardado en Odoo: 🟡 Trámite MID-BIH-035 actualizado correctamente (sin duplicar).\n",
            "📨 Log guardado en Odoo: 🟡 Trámite MID-BIH-036 actualizado correctamente (sin duplicar).\n",
            "📨 Log guardado en Odoo: 🟡 Trámite MID-BIH-037 actualizado correctamente (sin duplicar).\n",
            "📨 Log guardado en Odoo: 🟡 Trámite MID-BIH-038 actualizado correctamente (sin duplicar).\n",
            "📨 Log guardado en Odoo: 🟡 Trámite MID-BIH-039 actualizado correctamente (sin duplicar).\n",
            "📨 Log guardado en Odoo: 🟡 Trámite MID-BIH-040 actualizado correctamente (sin duplicar).\n",
            "📨 Log guardado en Odoo: 🟡 Trámite MID-BIH-041 actualizado correctamente (sin duplicar).\n",
            "📨 Log guardado en Odoo: 🟡 Trámite MID-BIH-042 actualizado correctamente (sin duplicar).\n",
            "📨 Log guardado en Odoo: 🟡 Trámite MID-BIH-043 actualizado correctamente (sin duplicar).\n",
            "📨 Log guardado en Odoo: 🟡 Trámite MID-BIH-044 actualizado correctamente (sin duplicar).\n",
            "📨 Log guardado en Odoo: 🟡 Trámite MID-BIH-045 actualizado correctamente (sin duplicar).\n",
            "📨 Log guardado en Odoo: 🟡 Trámite MID-BIH-046 actualizado correctamente (sin duplicar).\n",
            "📨 Log guardado en Odoo: 🟡 Trámite MID-BIH-047 actualizado correctamente (sin duplicar).\n",
            "📨 Log guardado en Odoo: 🟡 Trámite MID-CAT-048 actualizado correctamente (sin duplicar).\n",
            "📨 Log guardado en Odoo: 🟡 Trámite MID-CAT-049 actualizado correctamente (sin duplicar).\n",
            "📨 Log guardado en Odoo: 🟡 Trámite MID-CAT-050 actualizado correctamente (sin duplicar).\n",
            "📨 Log guardado en Odoo: 🟡 Trámite MID-CAT-051 actualizado correctamente (sin duplicar).\n",
            "📨 Log guardado en Odoo: 🟡 Trámite MID-CAT-052 actualizado correctamente (sin duplicar).\n",
            "📨 Log guardado en Odoo: 🟡 Trámite MID-CAT-053 actualizado correctamente (sin duplicar).\n",
            "📨 Log guardado en Odoo: 🟡 Trámite MID-CAT-054 actualizado correctamente (sin duplicar).\n",
            "📨 Log guardado en Odoo: 🟡 Trámite MID-CAT-055 actualizado correctamente (sin duplicar).\n",
            "📨 Log guardado en Odoo: 🟡 Trámite MID-CAT-056 actualizado correctamente (sin duplicar).\n",
            "📨 Log guardado en Odoo: 🟡 Trámite MID-CAT-057 actualizado correctamente (sin duplicar).\n",
            "📨 Log guardado en Odoo: 🟡 Trámite MID-CAT-058 actualizado correctamente (sin duplicar).\n",
            "📨 Log guardado en Odoo: 🟡 Trámite MID-CAT-059 actualizado correctamente (sin duplicar).\n",
            "📨 Log guardado en Odoo: 🟡 Trámite MID-CAT-060 actualizado correctamente (sin duplicar).\n",
            "📨 Log guardado en Odoo: 🟡 Trámite MID-CAT-061 actualizado correctamente (sin duplicar).\n",
            "📨 Log guardado en Odoo: 🟡 Trámite MID-CAT-062 actualizado correctamente (sin duplicar).\n",
            "📨 Log guardado en Odoo: 🟡 Trámite MID-CAT-063 actualizado correctamente (sin duplicar).\n",
            "📨 Log guardado en Odoo: 🟡 Trámite MID-CAT-064 actualizado correctamente (sin duplicar).\n",
            "📨 Log guardado en Odoo: 🟡 Trámite MID-CAT-065 actualizado correctamente (sin duplicar).\n",
            "📨 Log guardado en Odoo: 🟡 Trámite MID-CAT-066 actualizado correctamente (sin duplicar).\n",
            "📨 Log guardado en Odoo: 🟡 Trámite MID-CAT-067 actualizado correctamente (sin duplicar).\n",
            "📨 Log guardado en Odoo: 🟡 Trámite MID-CAT-068 actualizado correctamente (sin duplicar).\n",
            "📨 Log guardado en Odoo: 🟡 Trámite MID-CAT-069 actualizado correctamente (sin duplicar).\n",
            "📨 Log guardado en Odoo: 🟡 Trámite MID-CAT-070 actualizado correctamente (sin duplicar).\n",
            "📨 Log guardado en Odoo: 🟡 Trámite MID-CAT-071 actualizado correctamente (sin duplicar).\n",
            "📨 Log guardado en Odoo: 🟡 Trámite MID-CAT-072 actualizado correctamente (sin duplicar).\n",
            "📨 Log guardado en Odoo: 🟡 Trámite MID-CAT-073 actualizado correctamente (sin duplicar).\n",
            "📨 Log guardado en Odoo: 🟡 Trámite MID-CAT-074 actualizado correctamente (sin duplicar).\n",
            "📨 Log guardado en Odoo: 🟡 Trámite MID-CAT-075 actualizado correctamente (sin duplicar).\n",
            "📨 Log guardado en Odoo: 🟡 Trámite MID-CAT-076 actualizado correctamente (sin duplicar).\n",
            "📨 Log guardado en Odoo: 🟡 Trámite MID-CAT-077 actualizado correctamente (sin duplicar).\n",
            "📨 Log guardado en Odoo: 🟡 Trámite MID-CAT-078 actualizado correctamente (sin duplicar).\n",
            "📨 Log guardado en Odoo: 🟡 Trámite MID-CAT-079 actualizado correctamente (sin duplicar).\n",
            "📨 Log guardado en Odoo: 🟡 Trámite MID-CAT-080 actualizado correctamente (sin duplicar).\n",
            "📨 Log guardado en Odoo: 🟡 Trámite MID-CAT-081 actualizado correctamente (sin duplicar).\n",
            "📨 Log guardado en Odoo: 🟡 Trámite MID-CAT-082 actualizado correctamente (sin duplicar).\n",
            "📨 Log guardado en Odoo: 🟡 Trámite MID-CAT-083 actualizado correctamente (sin duplicar).\n",
            "📨 Log guardado en Odoo: 🟡 Trámite MID-CAT-084 actualizado correctamente (sin duplicar).\n",
            "📨 Log guardado en Odoo: 🟡 Trámite MID-CAT-085 actualizado correctamente (sin duplicar).\n",
            "📨 Log guardado en Odoo: 🟡 Trámite MID-CAT-086 actualizado correctamente (sin duplicar).\n",
            "📨 Log guardado en Odoo: 🟡 Trámite MID-CAT-087 actualizado correctamente (sin duplicar).\n",
            "📨 Log guardado en Odoo: 🟡 Trámite MID-CAT-088 actualizado correctamente (sin duplicar).\n",
            "📨 Log guardado en Odoo: 🟡 Trámite MID-CAT-089 actualizado correctamente (sin duplicar).\n",
            "📨 Log guardado en Odoo: 🟡 Trámite MID-CAT-090 actualizado correctamente (sin duplicar).\n",
            "📨 Log guardado en Odoo: 🟡 Trámite MID-CAT-091 actualizado correctamente (sin duplicar).\n",
            "📨 Log guardado en Odoo: 🟡 Trámite MID-CAT-092 actualizado correctamente (sin duplicar).\n",
            "📨 Log guardado en Odoo: 🟡 Trámite MID-CAT-093 actualizado correctamente (sin duplicar).\n",
            "📨 Log guardado en Odoo: 🟡 Trámite MID-CAT-094 actualizado correctamente (sin duplicar).\n",
            "📨 Log guardado en Odoo: 🟡 Trámite MID-CAT-095 actualizado correctamente (sin duplicar).\n",
            "📨 Log guardado en Odoo: 🟡 Trámite MID-CAT-096 actualizado correctamente (sin duplicar).\n",
            "📨 Log guardado en Odoo: 🟡 Trámite MID-CAT-097 actualizado correctamente (sin duplicar).\n",
            "📨 Log guardado en Odoo: 🟡 Trámite MID-CAT-098 actualizado correctamente (sin duplicar).\n",
            "📨 Log guardado en Odoo: 🟡 Trámite MID-CAT-099 actualizado correctamente (sin duplicar).\n",
            "📨 Log guardado en Odoo: 🟡 Trámite MID-CAT-100 actualizado correctamente (sin duplicar).\n",
            "📨 Log guardado en Odoo: 🟡 Trámite MID-CAT-101 actualizado correctamente (sin duplicar).\n",
            "📨 Log guardado en Odoo: 🟡 Trámite MID-CAT-102 actualizado correctamente (sin duplicar).\n",
            "📨 Log guardado en Odoo: 🟡 Trámite MID-CAT-103 actualizado correctamente (sin duplicar).\n",
            "📨 Log guardado en Odoo: 🟡 Trámite MID-CAT-104 actualizado correctamente (sin duplicar).\n",
            "📨 Log guardado en Odoo: 🟡 Trámite MID-CAT-105 actualizado correctamente (sin duplicar).\n",
            "📨 Log guardado en Odoo: 🟡 Trámite MID-CAT-106 actualizado correctamente (sin duplicar).\n",
            "📨 Log guardado en Odoo: 🟡 Trámite MID-CAT-107 actualizado correctamente (sin duplicar).\n",
            "📨 Log guardado en Odoo: 🟡 Trámite MID-CAT-108 actualizado correctamente (sin duplicar).\n",
            "📨 Log guardado en Odoo: 🟡 Trámite MID-CAT-109 actualizado correctamente (sin duplicar).\n",
            "📨 Log guardado en Odoo: 🟡 Trámite MID-CAM-110 actualizado correctamente (sin duplicar).\n",
            "📨 Log guardado en Odoo: 🟡 Trámite MID-CPC-111 actualizado correctamente (sin duplicar).\n",
            "📨 Log guardado en Odoo: 🟡 Trámite MID-COM-112 actualizado correctamente (sin duplicar).\n",
            "📨 Log guardado en Odoo: 🟡 Trámite MID-DSC-113 actualizado correctamente (sin duplicar).\n",
            "📨 Log guardado en Odoo: 🟡 Trámite MID-DSC-114 actualizado correctamente (sin duplicar).\n",
            "📨 Log guardado en Odoo: 🟡 Trámite MID-DSC-115 actualizado correctamente (sin duplicar).\n",
            "📨 Log guardado en Odoo: 🟡 Trámite MID-DSC-116 actualizado correctamente (sin duplicar).\n",
            "📨 Log guardado en Odoo: 🟡 Trámite MID-DSC-117 actualizado correctamente (sin duplicar).\n",
            "📨 Log guardado en Odoo: 🟡 Trámite MID-DSC-118 actualizado correctamente (sin duplicar).\n",
            "📨 Log guardado en Odoo: 🟡 Trámite MID-DSC-119 actualizado correctamente (sin duplicar).\n",
            "📨 Log guardado en Odoo: 🟡 Trámite MID-DSC-120 actualizado correctamente (sin duplicar).\n",
            "📨 Log guardado en Odoo: 🟡 Trámite MID-DSC-121 actualizado correctamente (sin duplicar).\n",
            "📨 Log guardado en Odoo: 🟡 Trámite MID-DEU-122 actualizado correctamente (sin duplicar).\n",
            "📨 Log guardado en Odoo: 🟡 Trámite MID-DEU-123 actualizado correctamente (sin duplicar).\n",
            "📨 Log guardado en Odoo: 🟡 Trámite MID-DEU-124 actualizado correctamente (sin duplicar).\n",
            "📨 Log guardado en Odoo: 🟡 Trámite MID-DEU-125 actualizado correctamente (sin duplicar).\n",
            "📨 Log guardado en Odoo: 🟡 Trámite MID-DEU-126 actualizado correctamente (sin duplicar).\n",
            "📨 Log guardado en Odoo: 🟡 Trámite MID-DEU-127 actualizado correctamente (sin duplicar).\n",
            "📨 Log guardado en Odoo: 🟡 Trámite MID-DEU-128 actualizado correctamente (sin duplicar).\n",
            "📨 Log guardado en Odoo: 🟡 Trámite MID-DEU-129 actualizado correctamente (sin duplicar).\n",
            "📨 Log guardado en Odoo: 🟡 Trámite MID-DEU-130 actualizado correctamente (sin duplicar).\n",
            "📨 Log guardado en Odoo: 🟡 Trámite MID-DEU-131 actualizado correctamente (sin duplicar).\n",
            "📨 Log guardado en Odoo: 🟡 Trámite MID-DEU-132 actualizado correctamente (sin duplicar).\n",
            "📨 Log guardado en Odoo: 🟡 Trámite MID-DEU-133 actualizado correctamente (sin duplicar).\n",
            "📨 Log guardado en Odoo: 🟡 Trámite MID-DEU-134 actualizado correctamente (sin duplicar).\n",
            "📨 Log guardado en Odoo: 🟡 Trámite MID-DEU-135 actualizado correctamente (sin duplicar).\n",
            "📨 Log guardado en Odoo: 🟡 Trámite MID-DEU-136 actualizado correctamente (sin duplicar).\n",
            "📨 Log guardado en Odoo: 🟡 Trámite MID-DEU-137 actualizado correctamente (sin duplicar).\n",
            "📨 Log guardado en Odoo: 🟡 Trámite MID-DEU-138 actualizado correctamente (sin duplicar).\n",
            "📨 Log guardado en Odoo: 🟡 Trámite MID-DEU-139 actualizado correctamente (sin duplicar).\n",
            "📨 Log guardado en Odoo: 🟡 Trámite MID-DEU-140 actualizado correctamente (sin duplicar).\n",
            "📨 Log guardado en Odoo: 🟡 Trámite MID-DEU-141 actualizado correctamente (sin duplicar).\n",
            "📨 Log guardado en Odoo: 🟡 Trámite MID-DEU-142 actualizado correctamente (sin duplicar).\n",
            "📨 Log guardado en Odoo: 🟡 Trámite MID-DEU-143 actualizado correctamente (sin duplicar).\n",
            "📨 Log guardado en Odoo: 🟡 Trámite MID-DEU-144 actualizado correctamente (sin duplicar).\n",
            "📨 Log guardado en Odoo: 🟡 Trámite MID-DEU-145 actualizado correctamente (sin duplicar).\n",
            "📨 Log guardado en Odoo: 🟡 Trámite MID-DEU-146 actualizado correctamente (sin duplicar).\n",
            "📨 Log guardado en Odoo: 🟡 Trámite MID-DEU-147 actualizado correctamente (sin duplicar).\n",
            "📨 Log guardado en Odoo: 🟡 Trámite MID-DEU-148 actualizado correctamente (sin duplicar).\n",
            "📨 Log guardado en Odoo: 🟡 Trámite MID-DEU-149 actualizado correctamente (sin duplicar).\n",
            "📨 Log guardado en Odoo: 🟡 Trámite MID-DEU-150 actualizado correctamente (sin duplicar).\n",
            "📨 Log guardado en Odoo: 🟡 Trámite MID-DEU-151 actualizado correctamente (sin duplicar).\n",
            "📨 Log guardado en Odoo: 🟡 Trámite MID-DEU-152 actualizado correctamente (sin duplicar).\n",
            "📨 Log guardado en Odoo: 🟡 Trámite MID-DEU-153 actualizado correctamente (sin duplicar).\n",
            "📨 Log guardado en Odoo: 🟡 Trámite MID-DEU-154 actualizado correctamente (sin duplicar).\n",
            "📨 Log guardado en Odoo: 🟡 Trámite MID-DEU-155 actualizado correctamente (sin duplicar).\n",
            "📨 Log guardado en Odoo: 🟡 Trámite MID-DEU-156 actualizado correctamente (sin duplicar).\n",
            "📨 Log guardado en Odoo: 🟡 Trámite MID-DEU-157 actualizado correctamente (sin duplicar).\n",
            "📨 Log guardado en Odoo: 🟡 Trámite MID-DEU-158 actualizado correctamente (sin duplicar).\n",
            "📨 Log guardado en Odoo: 🟡 Trámite MID-DEU-159 actualizado correctamente (sin duplicar).\n",
            "📨 Log guardado en Odoo: 🟡 Trámite MID-DEU-160 actualizado correctamente (sin duplicar).\n",
            "📨 Log guardado en Odoo: 🟡 Trámite MID-DEU-161 actualizado correctamente (sin duplicar).\n",
            "📨 Log guardado en Odoo: 🟡 Trámite MID-DEU-162 actualizado correctamente (sin duplicar).\n"
          ]
        }
      ]
    }
  ]
}